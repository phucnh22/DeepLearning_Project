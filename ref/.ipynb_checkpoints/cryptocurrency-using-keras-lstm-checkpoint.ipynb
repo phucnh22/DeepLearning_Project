{
 "cells": [
  {
   "cell_type": "code",
   "execution_count": null,
   "metadata": {
    "_uuid": "962ed94af86bb4a11a78e49f9fb801fc72e32ffe",
    "collapsed": true
   },
   "outputs": [],
   "source": [
    "import os\n",
    "import pandas as pd\n",
    "import matplotlib.pyplot as plt\n",
    "%matplotlib inline\n",
    "\n",
    "from keras.layers import Input, Dense, Bidirectional, Dropout\n",
    "from keras.layers.recurrent import LSTM\n",
    "from keras.models import Model\n",
    "from keras.callbacks import EarlyStopping\n",
    "\n",
    "import numpy as np"
   ]
  },
  {
   "cell_type": "code",
   "execution_count": null,
   "metadata": {
    "_uuid": "849219ed5aa36e72fc4ed2b4a64016a857417609",
    "collapsed": true
   },
   "outputs": [],
   "source": [
    "os.listdir(\"../input/\")"
   ]
  },
  {
   "cell_type": "markdown",
   "metadata": {
    "_uuid": "23724c5e05bd4a960b2f92a2463c21363b21bafa"
   },
   "source": [
    "# Load data\n",
    "\n",
    "We load each currency into a separate dataframe and store the dataframes in a dictionary."
   ]
  },
  {
   "cell_type": "code",
   "execution_count": null,
   "metadata": {
    "_uuid": "279cc4e599ef98b397fc5af285f88f32f0a3f522",
    "collapsed": true
   },
   "outputs": [],
   "source": [
    "coin_dataframes = {}\n",
    "\n",
    "def convert_comma_int(field):\n",
    "    try:\n",
    "        return int(field.replace(',', ''))\n",
    "    except ValueError:\n",
    "        return None\n",
    "    \n",
    "for fn in os.listdir(\"../input/\"):\n",
    "    if \"bitcoin_cache\" in fn:\n",
    "        continue\n",
    "    if fn.endswith(\"_price.csv\"):\n",
    "        coin_name = fn.split(\"_\")[0]\n",
    "        df = pd.read_csv(os.path.join(\"../input/\", fn), parse_dates=[\"Date\"])\n",
    "        df['Market Cap'] = df['Market Cap'].map(convert_comma_int)\n",
    "        coin_dataframes[coin_name] = df.sort_values('Date')"
   ]
  },
  {
   "cell_type": "code",
   "execution_count": null,
   "metadata": {
    "_uuid": "eb554745d5995e6f58ce31d45e371659cffb2470",
    "collapsed": true
   },
   "outputs": [],
   "source": [
    "coin_dataframes.keys()"
   ]
  },
  {
   "cell_type": "markdown",
   "metadata": {
    "_uuid": "4bdd4c6b06c4803a02e7da77d72b5cc8a9c47fee"
   },
   "source": [
    "Each dataframe looks like this:"
   ]
  },
  {
   "cell_type": "code",
   "execution_count": null,
   "metadata": {
    "_uuid": "b90352d1653fd2646c9c8725ad62e8ae70b9f187",
    "collapsed": true
   },
   "outputs": [],
   "source": [
    "coin_dataframes['nem'].head()"
   ]
  },
  {
   "cell_type": "markdown",
   "metadata": {
    "_uuid": "105832692a2a6d6a703090ec6db0435a75fd9a72"
   },
   "source": [
    "## Bitcoin value growth\n",
    "\n",
    "Just for fun."
   ]
  },
  {
   "cell_type": "code",
   "execution_count": null,
   "metadata": {
    "_uuid": "c123f0c0e0f7c474df55e5647a7bec770a0265c8",
    "collapsed": true
   },
   "outputs": [],
   "source": [
    "# import plotly.plotly as py\n",
    "# import plotly.graph_objs as go\n",
    "\n",
    "# from datetime import datetime\n",
    "# # import pandas_datareader.data as web\n",
    "\n",
    "# data = [go.Scatter(x=coin_dataframes['bitcoin'].Date, y=coin_dataframes['bitcoin'].Date)]\n",
    "\n",
    "# py.iplot(data)\n",
    "\n",
    "plt.figure(figsize=(20,8))\n",
    "coin_dataframes['bitcoin'].plot(x='Date', y='Close')\n",
    "plt.show()"
   ]
  },
  {
   "cell_type": "markdown",
   "metadata": {
    "_uuid": "03c3ded3be29e250f69383d3043c80d303fc6d4f"
   },
   "source": [
    "# Compute relative growth and other relative values\n",
    "\n",
    "We add these values as new columns to the dataframes:"
   ]
  },
  {
   "cell_type": "code",
   "execution_count": null,
   "metadata": {
    "_uuid": "51d2fda0a5b91ec8a346c2a1af98e7a4a5e975f9",
    "collapsed": true
   },
   "outputs": [],
   "source": [
    "def add_relative_columns(df):\n",
    "    day_diff = df['Close'] - df['Open']\n",
    "    df['rel_close'] = day_diff / df['Open']\n",
    "    df['high_low_ratio'] = df['High'] / df['Low']\n",
    "    df['rel_high'] = df['High'] / df['Close']\n",
    "    df['rel_low'] = df['Low'] / df['Close']\n",
    "    \n",
    "    \n",
    "for df in coin_dataframes.values():\n",
    "    add_relative_columns(df)\n",
    "    \n",
    "coin_dataframes[\"nem\"].head()"
   ]
  },
  {
   "cell_type": "markdown",
   "metadata": {
    "_uuid": "b43fe76672c979eef888e8988bf08f319d971cb5"
   },
   "source": [
    "## Create historical training data\n",
    "\n",
    "The history tables will have values for the last 10 days for each day."
   ]
  },
  {
   "cell_type": "code",
   "execution_count": null,
   "metadata": {
    "_uuid": "effcb8df588239bd4fe345106e317eaf0bf8fc61",
    "collapsed": true
   },
   "outputs": [],
   "source": [
    "def create_history_frames(coin_dataframes):\n",
    "    history_frames = {}\n",
    "    for coin_name, df in coin_dataframes.items():\n",
    "        history_frames[coin_name], x_cols = create_history_frame(df)\n",
    "    return history_frames, x_cols\n",
    "        \n",
    "\n",
    "def create_history_frame(df):\n",
    "    feature_cols = ['rel_close', 'rel_high', 'rel_low', 'high_low_ratio']\n",
    "    y_col = ['rel_close']\n",
    "    x_cols = []\n",
    "    days = 10\n",
    "    history = df[['Date'] + y_col].copy()\n",
    "    for n in range(1, days+1):\n",
    "        for feat_col in feature_cols:\n",
    "            colname = '{}_{}'.format(feat_col, n)\n",
    "            history[colname] = df[feat_col].shift(n)\n",
    "            x_cols.append(colname)\n",
    "    history = history[days:]\n",
    "    return history, x_cols\n",
    "\n",
    "y_col = 'rel_close'\n",
    "coin_history, x_cols = create_history_frames(coin_dataframes)"
   ]
  },
  {
   "cell_type": "markdown",
   "metadata": {
    "_uuid": "6c95e7214d2e22404dd7ca1f3f2513c96e190881",
    "collapsed": true
   },
   "source": [
    "# Define model\n",
    "\n",
    "We will train a separate model for each currency. The models' architecture  identical."
   ]
  },
  {
   "cell_type": "code",
   "execution_count": null,
   "metadata": {
    "_uuid": "4e646a7cc924d1f042db45c43db0c730995546b4",
    "collapsed": true
   },
   "outputs": [],
   "source": [
    "def create_model():\n",
    "    input_layer = Input(batch_shape=(None, len(x_cols), 1))\n",
    "    layer = Bidirectional(LSTM(128, return_sequences=True))(input_layer)\n",
    "    layer = Bidirectional(LSTM(128))(layer)\n",
    "    out = Dense(1, activation=\"sigmoid\")(layer)\n",
    "    m = Model(inputs=input_layer, outputs=out)\n",
    "    m.compile(\"rmsprop\", loss='mean_squared_error')\n",
    "    return m\n",
    "\n",
    "def create_train_test_mtx(history):\n",
    "    X = history[x_cols].as_matrix()\n",
    "    y = history[y_col].as_matrix()\n",
    "    X = X.reshape(X.shape[0], X.shape[1], 1)\n",
    "    rand_mtx = np.random.permutation(X.shape[0])\n",
    "    train_split = int(X.shape[0] * 0.9)\n",
    "    train_indices = rand_mtx[:train_split]\n",
    "    test_indices = rand_mtx[train_split:]\n",
    "\n",
    "    X_train = X[train_indices]\n",
    "    X_test = X[test_indices]\n",
    "    y_train = y[train_indices]\n",
    "    y_test = y[test_indices]\n",
    "    \n",
    "    return X_train, X_test, y_train, y_test\n",
    "\n",
    "def train_model(model, X, y):\n",
    "    ea = EarlyStopping(monitor='val_loss', patience=2)\n",
    "    val_loss = model.fit(X, y, epochs=500, batch_size=64, callbacks=[ea], verbose=1, validation_split=.1)\n",
    "    return val_loss"
   ]
  },
  {
   "cell_type": "markdown",
   "metadata": {
    "_uuid": "c4e9d9eb07552949e00a8168684092974c3b25b9"
   },
   "source": [
    "## Train a model for each currency\n",
    "\n",
    "We save RMSE as well as the predictions on each test set."
   ]
  },
  {
   "cell_type": "code",
   "execution_count": null,
   "metadata": {
    "_kg_hide-output": true,
    "_uuid": "528acd67d29d1e660d112693e1ff2f2ac62e37f6",
    "collapsed": true,
    "scrolled": false
   },
   "outputs": [],
   "source": [
    "rmse = {}\n",
    "pred = {}\n",
    "test = {}\n",
    "\n",
    "for coin_name, history in coin_history.items():\n",
    "    model = create_model()\n",
    "    X_train, X_test, y_train, y_test = create_train_test_mtx(history)\n",
    "    train_model(model, X_train, y_train)\n",
    "    test[coin_name] = y_test\n",
    "    \n",
    "    # run prediction on test set\n",
    "    pred[coin_name] = model.predict(X_test)\n",
    "    # compute test loss\n",
    "    rmse[coin_name] = np.sqrt(np.mean((pred[coin_name] - y_test)**2))\n",
    "    print(coin_name, rmse[coin_name])"
   ]
  },
  {
   "cell_type": "markdown",
   "metadata": {
    "_uuid": "8f8195566a8546be0e475ae0e65866a998428ffd"
   },
   "source": [
    "## Do our models predict the signum of the value change correctly?"
   ]
  },
  {
   "cell_type": "code",
   "execution_count": null,
   "metadata": {
    "_uuid": "fdce6eb519afbf9266744af74f5d8f0e0ad9b7a3",
    "collapsed": true
   },
   "outputs": [],
   "source": [
    "pred_sign = {coin_name: np.sign(pred[coin_name]) * np.sign(test[coin_name]) for coin_name in pred.keys()}\n",
    "for coin, val in sorted(pred_sign.items()):\n",
    "    cnt = np.unique(pred_sign[coin], return_counts=True)[1]\n",
    "    print(\"[{}] pos/neg change guessed correctly: {}, incorrectly: {}, correct%: {}\".format(\n",
    "        coin, cnt[0], cnt[1], cnt[0]/ (cnt[0]+cnt[1]) * 100))"
   ]
  },
  {
   "cell_type": "markdown",
   "metadata": {
    "_uuid": "0e48d37cee0fb29f3e5d702c8393c2ee004b05d4"
   },
   "source": [
    "## Did we guess anything useful at all?"
   ]
  },
  {
   "cell_type": "code",
   "execution_count": null,
   "metadata": {
    "_uuid": "36c61814b435a8217e35c5bbb60811c7ec4a8424",
    "collapsed": true
   },
   "outputs": [],
   "source": [
    "pred_sign = {coin_name: np.sign(pred[coin_name]) for coin_name in pred.keys()}\n",
    "for coin, val in sorted(pred_sign.items()):\n",
    "    e, cnt = np.unique(val, return_counts=True)\n",
    "    print(\"[{}] guesses: {}\".format(coin, dict(zip(e, cnt))))"
   ]
  }
 ],
 "metadata": {
  "kernelspec": {
   "display_name": "Python 3",
   "language": "python",
   "name": "python3"
  },
  "language_info": {
   "codemirror_mode": {
    "name": "ipython",
    "version": 3
   },
   "file_extension": ".py",
   "mimetype": "text/x-python",
   "name": "python",
   "nbconvert_exporter": "python",
   "pygments_lexer": "ipython3",
   "version": "3.8.5"
  }
 },
 "nbformat": 4,
 "nbformat_minor": 1
}
