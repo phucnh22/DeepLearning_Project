{
 "cells": [
  {
   "cell_type": "code",
   "execution_count": 2,
   "metadata": {},
   "outputs": [],
   "source": [
    "import json\n",
    "import requests\n",
    "from keras.models import Sequential\n",
    "from keras.layers import Input, Activation, Dense, Dropout, LSTM, Bidirectional\n",
    "from keras.layers.recurrent import LSTM\n",
    "from keras.models import Model\n",
    "from keras.callbacks import EarlyStopping\n",
    "import matplotlib.pyplot as plt\n",
    "import numpy as np\n",
    "import pandas as pd\n",
    "import seaborn as sns\n",
    "from sklearn.metrics import mean_absolute_error\n",
    "import os\n",
    "%matplotlib inline"
   ]
  },
  {
   "cell_type": "code",
   "execution_count": 32,
   "metadata": {},
   "outputs": [],
   "source": [
    "path_data = os.path.join(os.getcwd(),\"data\")\n",
    "\n",
    "coin_dataframes = {}\n",
    "\n",
    "def convert_comma_int(field):\n",
    "    try:\n",
    "        return int(field.replace(',', ''))\n",
    "    except ValueError:\n",
    "        return None\n",
    "    \n",
    "for fn in os.listdir(path_data):\n",
    "    #if \"bitcoin_cache\" in fn:\n",
    "     #   continue\n",
    "    if fn.startswith(\"coin_\"):\n",
    "        coin_name = fn.split(\"_\")[1].split(\".\")[0]\n",
    "        df = pd.read_csv(os.path.join(path_data, fn), parse_dates=[\"Date\"])\n",
    "        #df['Marketcap'] = df['Marketcap'].map(convert_comma_int)\n",
    "        coin_dataframes[coin_name] = df.sort_values('Date')"
   ]
  },
  {
   "cell_type": "code",
   "execution_count": 33,
   "metadata": {},
   "outputs": [
    {
     "data": {
      "text/plain": [
       "dict_keys(['Aave', 'BinanceCoin', 'Bitcoin', 'Cardano', 'ChainLink', 'Cosmos', 'CryptocomCoin', 'Dogecoin', 'EOS', 'Ethereum', 'Iota', 'Litecoin', 'Monero', 'NEM', 'Polkadot', 'Solana', 'Stellar', 'Tether', 'Tron', 'Uniswap', 'USDCoin', 'WrappedBitcoin', 'XRP'])"
      ]
     },
     "execution_count": 33,
     "metadata": {},
     "output_type": "execute_result"
    }
   ],
   "source": [
    "coin_dataframes.keys()"
   ]
  },
  {
   "cell_type": "code",
   "execution_count": 34,
   "metadata": {},
   "outputs": [
    {
     "data": {
      "text/html": [
       "<div>\n",
       "<style scoped>\n",
       "    .dataframe tbody tr th:only-of-type {\n",
       "        vertical-align: middle;\n",
       "    }\n",
       "\n",
       "    .dataframe tbody tr th {\n",
       "        vertical-align: top;\n",
       "    }\n",
       "\n",
       "    .dataframe thead th {\n",
       "        text-align: right;\n",
       "    }\n",
       "</style>\n",
       "<table border=\"1\" class=\"dataframe\">\n",
       "  <thead>\n",
       "    <tr style=\"text-align: right;\">\n",
       "      <th></th>\n",
       "      <th>SNo</th>\n",
       "      <th>Name</th>\n",
       "      <th>Symbol</th>\n",
       "      <th>Date</th>\n",
       "      <th>High</th>\n",
       "      <th>Low</th>\n",
       "      <th>Open</th>\n",
       "      <th>Close</th>\n",
       "      <th>Volume</th>\n",
       "      <th>Marketcap</th>\n",
       "    </tr>\n",
       "  </thead>\n",
       "  <tbody>\n",
       "    <tr>\n",
       "      <th>0</th>\n",
       "      <td>1</td>\n",
       "      <td>Binance Coin</td>\n",
       "      <td>BNB</td>\n",
       "      <td>2017-07-26 23:59:59</td>\n",
       "      <td>0.109013</td>\n",
       "      <td>0.099266</td>\n",
       "      <td>0.105893</td>\n",
       "      <td>0.105138</td>\n",
       "      <td>200395.0</td>\n",
       "      <td>10513800.0</td>\n",
       "    </tr>\n",
       "    <tr>\n",
       "      <th>1</th>\n",
       "      <td>2</td>\n",
       "      <td>Binance Coin</td>\n",
       "      <td>BNB</td>\n",
       "      <td>2017-07-27 23:59:59</td>\n",
       "      <td>0.108479</td>\n",
       "      <td>0.100888</td>\n",
       "      <td>0.105108</td>\n",
       "      <td>0.107737</td>\n",
       "      <td>344499.0</td>\n",
       "      <td>10773700.0</td>\n",
       "    </tr>\n",
       "    <tr>\n",
       "      <th>2</th>\n",
       "      <td>3</td>\n",
       "      <td>Binance Coin</td>\n",
       "      <td>BNB</td>\n",
       "      <td>2017-07-28 23:59:59</td>\n",
       "      <td>0.109019</td>\n",
       "      <td>0.101473</td>\n",
       "      <td>0.107632</td>\n",
       "      <td>0.104067</td>\n",
       "      <td>342568.0</td>\n",
       "      <td>10406700.0</td>\n",
       "    </tr>\n",
       "    <tr>\n",
       "      <th>3</th>\n",
       "      <td>4</td>\n",
       "      <td>Binance Coin</td>\n",
       "      <td>BNB</td>\n",
       "      <td>2017-07-29 23:59:59</td>\n",
       "      <td>0.111264</td>\n",
       "      <td>0.101108</td>\n",
       "      <td>0.104782</td>\n",
       "      <td>0.107811</td>\n",
       "      <td>340218.0</td>\n",
       "      <td>10781100.0</td>\n",
       "    </tr>\n",
       "    <tr>\n",
       "      <th>4</th>\n",
       "      <td>5</td>\n",
       "      <td>Binance Coin</td>\n",
       "      <td>BNB</td>\n",
       "      <td>2017-07-30 23:59:59</td>\n",
       "      <td>0.108138</td>\n",
       "      <td>0.103162</td>\n",
       "      <td>0.107935</td>\n",
       "      <td>0.106414</td>\n",
       "      <td>224261.0</td>\n",
       "      <td>10641400.0</td>\n",
       "    </tr>\n",
       "  </tbody>\n",
       "</table>\n",
       "</div>"
      ],
      "text/plain": [
       "   SNo          Name Symbol                Date      High       Low      Open  \\\n",
       "0    1  Binance Coin    BNB 2017-07-26 23:59:59  0.109013  0.099266  0.105893   \n",
       "1    2  Binance Coin    BNB 2017-07-27 23:59:59  0.108479  0.100888  0.105108   \n",
       "2    3  Binance Coin    BNB 2017-07-28 23:59:59  0.109019  0.101473  0.107632   \n",
       "3    4  Binance Coin    BNB 2017-07-29 23:59:59  0.111264  0.101108  0.104782   \n",
       "4    5  Binance Coin    BNB 2017-07-30 23:59:59  0.108138  0.103162  0.107935   \n",
       "\n",
       "      Close    Volume   Marketcap  \n",
       "0  0.105138  200395.0  10513800.0  \n",
       "1  0.107737  344499.0  10773700.0  \n",
       "2  0.104067  342568.0  10406700.0  \n",
       "3  0.107811  340218.0  10781100.0  \n",
       "4  0.106414  224261.0  10641400.0  "
      ]
     },
     "execution_count": 34,
     "metadata": {},
     "output_type": "execute_result"
    }
   ],
   "source": [
    "coin_dataframes['BinanceCoin'].head()"
   ]
  },
  {
   "cell_type": "markdown",
   "metadata": {
    "_uuid": "03c3ded3be29e250f69383d3043c80d303fc6d4f"
   },
   "source": [
    "# Compute relative growth and other relative values\n",
    "\n",
    "We add these values as new columns to the dataframes:"
   ]
  },
  {
   "cell_type": "code",
   "execution_count": 6,
   "metadata": {
    "_uuid": "51d2fda0a5b91ec8a346c2a1af98e7a4a5e975f9"
   },
   "outputs": [],
   "source": [
    "def add_relative_columns(df):\n",
    "    day_diff = df['Close'] - df['Open']\n",
    "    df['rel_close'] = day_diff / df['Open']\n",
    "    df['high_low_ratio'] = df['High'] / df['Low']\n",
    "    df['rel_high'] = df['High'] / df['Close']\n",
    "    df['rel_low'] = df['Low'] / df['Close']\n",
    "    \n",
    "    \n",
    "for df in coin_dataframes.values():\n",
    "    add_relative_columns(df)\n"
   ]
  },
  {
   "cell_type": "markdown",
   "metadata": {
    "_uuid": "b43fe76672c979eef888e8988bf08f319d971cb5"
   },
   "source": [
    "## Create historical training data\n",
    "\n",
    "The history tables will have values for the last 10 days for each day."
   ]
  },
  {
   "cell_type": "code",
   "execution_count": null,
   "metadata": {},
   "outputs": [],
   "source": []
  },
  {
   "cell_type": "code",
   "execution_count": 41,
   "metadata": {},
   "outputs": [],
   "source": [
    "df = coin_dataframes['Ethereum'].copy()\n",
    "df.drop(columns=['SNo','Name','Symbol'],inplace=True)\n",
    "df['Date'] = df['Date'].dt.date\n",
    "df.set_index(\"Date\",inplace=True)\n",
    "\n",
    "target_col = 'Close'"
   ]
  },
  {
   "cell_type": "code",
   "execution_count": 42,
   "metadata": {
    "_uuid": "36c61814b435a8217e35c5bbb60811c7ec4a8424"
   },
   "outputs": [],
   "source": [
    "def train_test_split(df, test_size=0.2):\n",
    "    split_row = len(df) - int(test_size * len(df))\n",
    "    train_data = df.iloc[:split_row]\n",
    "    test_data = df.iloc[split_row:]\n",
    "    return train_data, test_data\n",
    "train, test = train_test_split(df, test_size=0.2)"
   ]
  },
  {
   "cell_type": "code",
   "execution_count": 43,
   "metadata": {},
   "outputs": [
    {
     "data": {
      "image/png": "[encoded data removed]",
      "text/plain": [
       "<Figure size 936x504 with 1 Axes>"
      ]
     },
     "metadata": {
      "needs_background": "light"
     },
     "output_type": "display_data"
    }
   ],
   "source": [
    "def line_plot(line1, line2, label1=None, label2=None, title='', lw=2):\n",
    "    fig, ax = plt.subplots(1, figsize=(13, 7))\n",
    "    ax.plot(line1, label=label1, linewidth=lw)\n",
    "    ax.plot(line2, label=label2, linewidth=lw)\n",
    "    ax.set_ylabel('price [USD]', fontsize=14)\n",
    "    ax.set_title(title, fontsize=16)\n",
    "    ax.legend(loc='best', fontsize=16)\n",
    "    \n",
    "line_plot(train[target_col], test[target_col], 'training', 'test', title='')"
   ]
  },
  {
   "cell_type": "markdown",
   "metadata": {},
   "source": [
    "### Normalize data"
   ]
  },
  {
   "cell_type": "code",
   "execution_count": 44,
   "metadata": {},
   "outputs": [],
   "source": [
    "def normalise_zero_base(df):\n",
    "    return df / df.iloc[0] - 1\n",
    "def normalise_min_max(df):\n",
    "    return (df - df.min()) / (data.max() - df.min())"
   ]
  },
  {
   "cell_type": "code",
   "execution_count": 45,
   "metadata": {},
   "outputs": [],
   "source": [
    "def extract_window_data(df, window_len=5, zero_base=True):\n",
    "    window_data = []\n",
    "    for idx in range(len(df) - window_len):\n",
    "        tmp = df[idx: (idx + window_len)].copy()\n",
    "        if zero_base:\n",
    "            tmp = normalise_zero_base(tmp)\n",
    "        window_data.append(tmp.values)\n",
    "    return np.array(window_data)"
   ]
  },
  {
   "cell_type": "code",
   "execution_count": 46,
   "metadata": {},
   "outputs": [],
   "source": [
    "def prepare_data(df, target_col, window_len=10, zero_base=True, test_size=0.2):\n",
    "    train_data, test_data = train_test_split(df, test_size=test_size)\n",
    "    X_train = extract_window_data(train_data, window_len, zero_base)\n",
    "    X_test = extract_window_data(test_data, window_len, zero_base)\n",
    "    y_train = train_data[target_col][window_len:].values\n",
    "    y_test = test_data[target_col][window_len:].values\n",
    "    if zero_base:\n",
    "        y_train = y_train / train_data[target_col][:-window_len].values - 1\n",
    "        y_test = y_test / test_data[target_col][:-window_len].values - 1\n",
    "    return train_data, test_data, X_train, X_test, y_train, y_test"
   ]
  },
  {
   "cell_type": "markdown",
   "metadata": {},
   "source": [
    "### LSTM model"
   ]
  },
  {
   "cell_type": "code",
   "execution_count": 47,
   "metadata": {},
   "outputs": [],
   "source": [
    "def build_lstm_model(input_data, output_size, neurons=100, activ_func='linear', dropout=0.2, loss='mse', optimizer='adam'):\n",
    "    model = Sequential()\n",
    "    model.add(LSTM(neurons, input_shape =(input_data.shape[1],input_data.shape[2])))\n",
    "    model.add(Dropout(dropout))\n",
    "    model.add(Dense(units=output_size))\n",
    "    model.add(Activation(activ_func))\n",
    "    model.compile(loss=loss, optimizer=optimizer)\n",
    "    \n",
    "    return model"
   ]
  },
  {
   "cell_type": "code",
   "execution_count": 48,
   "metadata": {},
   "outputs": [],
   "source": [
    "np.random.seed(42)\n",
    "window_len = 5\n",
    "test_size = 0.2\n",
    "zero_base = True\n",
    "lstm_neurons = 100\n",
    "epochs = 20\n",
    "batch_size = 32\n",
    "loss = 'mse'\n",
    "dropout = 0.2\n",
    "optimizer = 'adam'"
   ]
  },
  {
   "cell_type": "code",
   "execution_count": 50,
   "metadata": {},
   "outputs": [
    {
     "name": "stdout",
     "output_type": "stream",
     "text": [
      "Epoch 1/20\n",
      "51/51 [==============================] - 2s 2ms/step - loss: 0.0194\n",
      "Epoch 2/20\n",
      "51/51 [==============================] - 0s 2ms/step - loss: 0.0108\n",
      "Epoch 3/20\n",
      "51/51 [==============================] - 0s 2ms/step - loss: 0.0113\n",
      "Epoch 4/20\n",
      "51/51 [==============================] - 0s 2ms/step - loss: 0.0087\n",
      "Epoch 5/20\n",
      "51/51 [==============================] - 0s 2ms/step - loss: 0.0066\n",
      "Epoch 6/20\n",
      "51/51 [==============================] - 0s 2ms/step - loss: 0.0065\n",
      "Epoch 7/20\n",
      "51/51 [==============================] - 0s 2ms/step - loss: 0.0071\n",
      "Epoch 8/20\n",
      "51/51 [==============================] - 0s 2ms/step - loss: 0.0065\n",
      "Epoch 9/20\n",
      "51/51 [==============================] - 0s 2ms/step - loss: 0.0068\n",
      "Epoch 10/20\n",
      "51/51 [==============================] - 0s 2ms/step - loss: 0.0061\n",
      "Epoch 11/20\n",
      "51/51 [==============================] - 0s 2ms/step - loss: 0.0060\n",
      "Epoch 12/20\n",
      "51/51 [==============================] - 0s 2ms/step - loss: 0.0064\n",
      "Epoch 13/20\n",
      "51/51 [==============================] - 0s 2ms/step - loss: 0.0050\n",
      "Epoch 14/20\n",
      "51/51 [==============================] - 0s 2ms/step - loss: 0.0051\n",
      "Epoch 15/20\n",
      "51/51 [==============================] - 0s 2ms/step - loss: 0.0060\n",
      "Epoch 16/20\n",
      "51/51 [==============================] - 0s 2ms/step - loss: 0.0052\n",
      "Epoch 17/20\n",
      "51/51 [==============================] - 0s 2ms/step - loss: 0.0053\n",
      "Epoch 18/20\n",
      "51/51 [==============================] - 0s 2ms/step - loss: 0.0043\n",
      "Epoch 19/20\n",
      "51/51 [==============================] - 0s 2ms/step - loss: 0.0054\n",
      "Epoch 20/20\n",
      "51/51 [==============================] - 0s 3ms/step - loss: 0.0050\n"
     ]
    }
   ],
   "source": [
    "train, test, X_train, X_test, y_train, y_test = prepare_data(df, target_col, window_len=window_len, zero_base=zero_base, test_size=test_size)\n",
    "model = build_lstm_model(X_train, output_size=1, neurons=lstm_neurons, dropout=dropout, loss=loss,optimizer=optimizer)\n",
    "history = model.fit(X_train, y_train, epochs=epochs, batch_size=batch_size, verbose=1, shuffle=True)"
   ]
  },
  {
   "cell_type": "code",
   "execution_count": 69,
   "metadata": {},
   "outputs": [
    {
     "data": {
      "text/plain": [
       "(401, 5, 6)"
      ]
     },
     "execution_count": 69,
     "metadata": {},
     "output_type": "execute_result"
    }
   ],
   "source": [
    "X_test.shape"
   ]
  },
  {
   "cell_type": "code",
   "execution_count": 65,
   "metadata": {},
   "outputs": [
    {
     "data": {
      "text/plain": [
       "0.038006353073393194"
      ]
     },
     "execution_count": 65,
     "metadata": {},
     "output_type": "execute_result"
    }
   ],
   "source": [
    "targets = test[target_col][window_len:]\n",
    "preds = model.predict(X_test).squeeze()\n",
    "mean_absolute_error(preds, y_test)"
   ]
  },
  {
   "cell_type": "code",
   "execution_count": 67,
   "metadata": {},
   "outputs": [
    {
     "data": {
      "image/png": "[encoded data removed]",
      "text/plain": [
       "<Figure size 936x504 with 1 Axes>"
      ]
     },
     "metadata": {
      "needs_background": "light"
     },
     "output_type": "display_data"
    }
   ],
   "source": [
    "preds = test[target_col].values[:-window_len] * (preds + 1)\n",
    "preds = pd.Series(index=targets.index, data=preds)\n",
    "line_plot(targets, preds, 'actual', 'prediction', lw=3)"
   ]
  },
  {
   "cell_type": "code",
   "execution_count": null,
   "metadata": {},
   "outputs": [],
   "source": []
  }
 ],
 "metadata": {
  "kernelspec": {
   "display_name": "Python 3",
   "language": "python",
   "name": "python3"
  },
  "language_info": {
   "codemirror_mode": {
    "name": "ipython",
    "version": 3
   },
   "file_extension": ".py",
   "mimetype": "text/x-python",
   "name": "python",
   "nbconvert_exporter": "python",
   "pygments_lexer": "ipython3",
   "version": "3.8.5"
  }
 },
 "nbformat": 4,
 "nbformat_minor": 4
}
