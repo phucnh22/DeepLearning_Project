{
 "cells": [
  {
   "cell_type": "code",
   "execution_count": null,
   "metadata": {
    "colab": {
     "base_uri": "https://localhost:8080/"
    },
    "id": "CLmQEb5CEYFS",
    "outputId": "1199fa55-89ea-42f9-e071-f8f4fbac244f"
   },
   "outputs": [
    {
     "name": "stdout",
     "output_type": "stream",
     "text": [
      "Mounted at /content/drive\n"
     ]
    }
   ],
   "source": [
    "from google.colab import drive\n",
    "drive.mount('/content/drive')\n",
    "path_datasets = '/content/drive/My Drive/DeepLearning'"
   ]
  },
  {
   "cell_type": "code",
   "execution_count": null,
   "metadata": {
    "colab": {
     "base_uri": "https://localhost:8080/"
    },
    "id": "zzsB-ul0Es8s",
    "outputId": "237307be-aabc-4379-86e0-9b8ca815239e"
   },
   "outputs": [
    {
     "name": "stdout",
     "output_type": "stream",
     "text": [
      "Found GPU at: /device:GPU:0\n"
     ]
    }
   ],
   "source": [
    "%tensorflow_version 2.x\n",
    "import tensorflow as tf\n",
    "device_name = tf.test.gpu_device_name()\n",
    "if device_name != '/device:GPU:0':\n",
    "  raise SystemError('GPU device not found')\n",
    "print('Found GPU at: {}'.format(device_name))"
   ]
  },
  {
   "cell_type": "code",
   "execution_count": null,
   "metadata": {
    "colab": {
     "base_uri": "https://localhost:8080/"
    },
    "id": "WRV2fltH95zf",
    "outputId": "b8c593e9-aaa7-4f86-91c1-f53948664eb1"
   },
   "outputs": [
    {
     "name": "stdout",
     "output_type": "stream",
     "text": [
      "\u001b[?25l\r",
      "\u001b[K     |█████▏                          | 10kB 17.9MB/s eta 0:00:01\r",
      "\u001b[K     |██████████▍                     | 20kB 14.8MB/s eta 0:00:01\r",
      "\u001b[K     |███████████████▋                | 30kB 9.9MB/s eta 0:00:01\r",
      "\u001b[K     |████████████████████▉           | 40kB 8.1MB/s eta 0:00:01\r",
      "\u001b[K     |██████████████████████████      | 51kB 4.5MB/s eta 0:00:01\r",
      "\u001b[K     |███████████████████████████████▎| 61kB 5.1MB/s eta 0:00:01\r",
      "\u001b[K     |████████████████████████████████| 71kB 3.6MB/s \n",
      "\u001b[?25h  Building wheel for keras-tuner (setup.py) ... \u001b[?25l\u001b[?25hdone\n",
      "  Building wheel for terminaltables (setup.py) ... \u001b[?25l\u001b[?25hdone\n"
     ]
    }
   ],
   "source": [
    "!pip install -q -U keras-tuner"
   ]
  },
  {
   "cell_type": "markdown",
   "metadata": {
    "id": "bDND3J-AGIXy"
   },
   "source": [
    "# Litecoin Price Prediction 2021"
   ]
  },
  {
   "cell_type": "code",
   "execution_count": null,
   "metadata": {
    "id": "N26zsIPiGIX4"
   },
   "outputs": [],
   "source": [
    "import numpy as np\n",
    "import matplotlib.pyplot as plt\n",
    "import pandas as pd\n",
    "import pandas_datareader as web\n",
    "import seaborn as sns\n",
    "import math\n",
    "from sklearn.preprocessing import MinMaxScaler\n",
    "from sklearn.metrics import mean_squared_error,accuracy_score,mean_absolute_error\n",
    "from sklearn.model_selection import train_test_split\n",
    "\n",
    "from keras.layers.core import Dense, Activation, Dropout\n",
    "from keras.layers.recurrent import LSTM\n",
    "from keras.layers import Bidirectional, GRU\n",
    "from keras.models import Sequential\n",
    "\n",
    "from kerastuner.tuners import RandomSearch\n",
    "from kerastuner.engine.hyperparameters import HyperParameters\n",
    "from kerastuner.tuners import BayesianOptimization\n",
    "from keras.regularizers import l2"
   ]
  },
  {
   "cell_type": "markdown",
   "metadata": {
    "id": "8LtrnRv5GIX5"
   },
   "source": [
    "## Data Preprocessing"
   ]
  },
  {
   "cell_type": "code",
   "execution_count": null,
   "metadata": {
    "id": "miZYjyNhGIX5"
   },
   "outputs": [],
   "source": [
    "df = pd.read_csv(path_datasets+'/coin_Litecoin.csv')"
   ]
  },
  {
   "cell_type": "code",
   "execution_count": null,
   "metadata": {
    "colab": {
     "base_uri": "https://localhost:8080/",
     "height": 195
    },
    "id": "zWkY4fPYGIX5",
    "outputId": "780b823d-8443-4810-f4b8-969c5c82faa4"
   },
   "outputs": [
    {
     "data": {
      "text/html": [
       "<div>\n",
       "<style scoped>\n",
       "    .dataframe tbody tr th:only-of-type {\n",
       "        vertical-align: middle;\n",
       "    }\n",
       "\n",
       "    .dataframe tbody tr th {\n",
       "        vertical-align: top;\n",
       "    }\n",
       "\n",
       "    .dataframe thead th {\n",
       "        text-align: right;\n",
       "    }\n",
       "</style>\n",
       "<table border=\"1\" class=\"dataframe\">\n",
       "  <thead>\n",
       "    <tr style=\"text-align: right;\">\n",
       "      <th></th>\n",
       "      <th>SNo</th>\n",
       "      <th>Name</th>\n",
       "      <th>Symbol</th>\n",
       "      <th>Date</th>\n",
       "      <th>High</th>\n",
       "      <th>Low</th>\n",
       "      <th>Open</th>\n",
       "      <th>Close</th>\n",
       "      <th>Volume</th>\n",
       "      <th>Marketcap</th>\n",
       "    </tr>\n",
       "  </thead>\n",
       "  <tbody>\n",
       "    <tr>\n",
       "      <th>0</th>\n",
       "      <td>1</td>\n",
       "      <td>Litecoin</td>\n",
       "      <td>LTC</td>\n",
       "      <td>2013-04-29 23:59:59</td>\n",
       "      <td>4.57360</td>\n",
       "      <td>4.22564</td>\n",
       "      <td>4.36676</td>\n",
       "      <td>4.38390</td>\n",
       "      <td>0.0</td>\n",
       "      <td>7.538896e+07</td>\n",
       "    </tr>\n",
       "    <tr>\n",
       "      <th>1</th>\n",
       "      <td>2</td>\n",
       "      <td>Litecoin</td>\n",
       "      <td>LTC</td>\n",
       "      <td>2013-04-30 23:59:59</td>\n",
       "      <td>4.57238</td>\n",
       "      <td>4.16896</td>\n",
       "      <td>4.40352</td>\n",
       "      <td>4.29649</td>\n",
       "      <td>0.0</td>\n",
       "      <td>7.402092e+07</td>\n",
       "    </tr>\n",
       "    <tr>\n",
       "      <th>2</th>\n",
       "      <td>3</td>\n",
       "      <td>Litecoin</td>\n",
       "      <td>LTC</td>\n",
       "      <td>2013-05-01 23:59:59</td>\n",
       "      <td>4.35686</td>\n",
       "      <td>3.52029</td>\n",
       "      <td>4.28954</td>\n",
       "      <td>3.80101</td>\n",
       "      <td>0.0</td>\n",
       "      <td>6.560460e+07</td>\n",
       "    </tr>\n",
       "    <tr>\n",
       "      <th>3</th>\n",
       "      <td>4</td>\n",
       "      <td>Litecoin</td>\n",
       "      <td>LTC</td>\n",
       "      <td>2013-05-02 23:59:59</td>\n",
       "      <td>4.03930</td>\n",
       "      <td>3.00717</td>\n",
       "      <td>3.78002</td>\n",
       "      <td>3.37198</td>\n",
       "      <td>0.0</td>\n",
       "      <td>5.828798e+07</td>\n",
       "    </tr>\n",
       "    <tr>\n",
       "      <th>4</th>\n",
       "      <td>5</td>\n",
       "      <td>Litecoin</td>\n",
       "      <td>LTC</td>\n",
       "      <td>2013-05-03 23:59:59</td>\n",
       "      <td>3.45361</td>\n",
       "      <td>2.39594</td>\n",
       "      <td>3.39044</td>\n",
       "      <td>3.04491</td>\n",
       "      <td>0.0</td>\n",
       "      <td>5.269485e+07</td>\n",
       "    </tr>\n",
       "  </tbody>\n",
       "</table>\n",
       "</div>"
      ],
      "text/plain": [
       "   SNo      Name Symbol  ...    Close  Volume     Marketcap\n",
       "0    1  Litecoin    LTC  ...  4.38390     0.0  7.538896e+07\n",
       "1    2  Litecoin    LTC  ...  4.29649     0.0  7.402092e+07\n",
       "2    3  Litecoin    LTC  ...  3.80101     0.0  6.560460e+07\n",
       "3    4  Litecoin    LTC  ...  3.37198     0.0  5.828798e+07\n",
       "4    5  Litecoin    LTC  ...  3.04491     0.0  5.269485e+07\n",
       "\n",
       "[5 rows x 10 columns]"
      ]
     },
     "execution_count": 6,
     "metadata": {
      "tags": []
     },
     "output_type": "execute_result"
    }
   ],
   "source": [
    "df.head()"
   ]
  },
  {
   "cell_type": "code",
   "execution_count": null,
   "metadata": {
    "colab": {
     "base_uri": "https://localhost:8080/",
     "height": 225
    },
    "id": "akJxZb8RGIX6",
    "outputId": "ac26db4d-9113-43e7-e640-23aa8e6ba5e4"
   },
   "outputs": [
    {
     "data": {
      "text/html": [
       "<div>\n",
       "<style scoped>\n",
       "    .dataframe tbody tr th:only-of-type {\n",
       "        vertical-align: middle;\n",
       "    }\n",
       "\n",
       "    .dataframe tbody tr th {\n",
       "        vertical-align: top;\n",
       "    }\n",
       "\n",
       "    .dataframe thead th {\n",
       "        text-align: right;\n",
       "    }\n",
       "</style>\n",
       "<table border=\"1\" class=\"dataframe\">\n",
       "  <thead>\n",
       "    <tr style=\"text-align: right;\">\n",
       "      <th></th>\n",
       "      <th>High</th>\n",
       "      <th>Low</th>\n",
       "      <th>Open</th>\n",
       "      <th>Close</th>\n",
       "      <th>Volume</th>\n",
       "      <th>Marketcap</th>\n",
       "    </tr>\n",
       "    <tr>\n",
       "      <th>date</th>\n",
       "      <th></th>\n",
       "      <th></th>\n",
       "      <th></th>\n",
       "      <th></th>\n",
       "      <th></th>\n",
       "      <th></th>\n",
       "    </tr>\n",
       "  </thead>\n",
       "  <tbody>\n",
       "    <tr>\n",
       "      <th>2013-04-29</th>\n",
       "      <td>4.57360</td>\n",
       "      <td>4.22564</td>\n",
       "      <td>4.36676</td>\n",
       "      <td>4.38390</td>\n",
       "      <td>0.0</td>\n",
       "      <td>7.538896e+07</td>\n",
       "    </tr>\n",
       "    <tr>\n",
       "      <th>2013-04-30</th>\n",
       "      <td>4.57238</td>\n",
       "      <td>4.16896</td>\n",
       "      <td>4.40352</td>\n",
       "      <td>4.29649</td>\n",
       "      <td>0.0</td>\n",
       "      <td>7.402092e+07</td>\n",
       "    </tr>\n",
       "    <tr>\n",
       "      <th>2013-05-01</th>\n",
       "      <td>4.35686</td>\n",
       "      <td>3.52029</td>\n",
       "      <td>4.28954</td>\n",
       "      <td>3.80101</td>\n",
       "      <td>0.0</td>\n",
       "      <td>6.560460e+07</td>\n",
       "    </tr>\n",
       "    <tr>\n",
       "      <th>2013-05-02</th>\n",
       "      <td>4.03930</td>\n",
       "      <td>3.00717</td>\n",
       "      <td>3.78002</td>\n",
       "      <td>3.37198</td>\n",
       "      <td>0.0</td>\n",
       "      <td>5.828798e+07</td>\n",
       "    </tr>\n",
       "    <tr>\n",
       "      <th>2013-05-03</th>\n",
       "      <td>3.45361</td>\n",
       "      <td>2.39594</td>\n",
       "      <td>3.39044</td>\n",
       "      <td>3.04491</td>\n",
       "      <td>0.0</td>\n",
       "      <td>5.269485e+07</td>\n",
       "    </tr>\n",
       "  </tbody>\n",
       "</table>\n",
       "</div>"
      ],
      "text/plain": [
       "               High      Low     Open    Close  Volume     Marketcap\n",
       "date                                                                \n",
       "2013-04-29  4.57360  4.22564  4.36676  4.38390     0.0  7.538896e+07\n",
       "2013-04-30  4.57238  4.16896  4.40352  4.29649     0.0  7.402092e+07\n",
       "2013-05-01  4.35686  3.52029  4.28954  3.80101     0.0  6.560460e+07\n",
       "2013-05-02  4.03930  3.00717  3.78002  3.37198     0.0  5.828798e+07\n",
       "2013-05-03  3.45361  2.39594  3.39044  3.04491     0.0  5.269485e+07"
      ]
     },
     "execution_count": 7,
     "metadata": {
      "tags": []
     },
     "output_type": "execute_result"
    }
   ],
   "source": [
    "#spliting 'Date' column to 'date' and 'time'\n",
    "df['Date'] = pd.to_datetime(df['Date'])\n",
    "df['date'] = df['Date'].dt.date\n",
    "df['time'] = df['Date'].dt.time\n",
    "\n",
    "#drop non-relevant columns\n",
    "df.drop(['SNo','Name','Symbol','Date','time'], axis=1, inplace=True)\n",
    "\n",
    "#set date as new index\n",
    "df.set_index('date',inplace=True)\n",
    "\n",
    "df.head()"
   ]
  },
  {
   "cell_type": "code",
   "execution_count": null,
   "metadata": {
    "colab": {
     "base_uri": "https://localhost:8080/",
     "height": 516
    },
    "id": "rVe84ee9GIX6",
    "outputId": "c272b53c-4796-4e57-8eb0-7ab9f296e831"
   },
   "outputs": [
    {
     "data": {
      "text/plain": [
       "[<matplotlib.lines.Line2D at 0x7f821be4e6d0>]"
      ]
     },
     "execution_count": 8,
     "metadata": {
      "tags": []
     },
     "output_type": "execute_result"
    },
    {
     "data": {
      "image/png": "[encoded data removed]",
      "text/plain": [
       "<Figure size 1152x576 with 1 Axes>"
      ]
     },
     "metadata": {
      "needs_background": "light",
      "tags": []
     },
     "output_type": "display_data"
    }
   ],
   "source": [
    "plt.figure(figsize=(16,8))\n",
    "plt.title(' Close Price History')\n",
    "plt.plot(df['Close'])"
   ]
  },
  {
   "cell_type": "markdown",
   "metadata": {
    "id": "RpSVytpBGIX7"
   },
   "source": [
    "## Train, Validation and Test Data"
   ]
  },
  {
   "cell_type": "code",
   "execution_count": null,
   "metadata": {
    "id": "INJ9OagyGIX7"
   },
   "outputs": [],
   "source": [
    "n = df.shape[0]\n",
    "train_df = df[0:int(n*.7)]\n",
    "val_df = df[int(n*0.7):int(n*0.85)]\n",
    "test_df = df[int(n*0.85):]"
   ]
  },
  {
   "cell_type": "code",
   "execution_count": null,
   "metadata": {
    "colab": {
     "base_uri": "https://localhost:8080/",
     "height": 428
    },
    "id": "Z0lzF0aWGIX7",
    "outputId": "3b79174f-badd-4a3d-ad76-733dfb94196b"
   },
   "outputs": [
    {
     "data": {
      "image/png": "[encoded data removed]",
      "text/plain": [
       "<Figure size 936x504 with 1 Axes>"
      ]
     },
     "metadata": {
      "needs_background": "light",
      "tags": []
     },
     "output_type": "display_data"
    }
   ],
   "source": [
    "def line_plot2(line1, line2,label1=None, label2=None, title='', lw=2):\n",
    "    fig, ax = plt.subplots(1, figsize=(13, 7))\n",
    "    ax.plot(line1, label=label1, linewidth=lw)\n",
    "    ax.plot(line2, label=label2, linewidth=lw)\n",
    "    ax.set_ylabel('price [USD]', fontsize=14)\n",
    "    ax.set_title(title, fontsize=16)\n",
    "    ax.legend(loc='best', fontsize=16)\n",
    "\n",
    "def line_plot3(line1, line2,line3, label1=None, label2=None,label3=None, title='', lw=2):\n",
    "    fig, ax = plt.subplots(1, figsize=(13, 7))\n",
    "    ax.plot(line1, label=label1, linewidth=lw)\n",
    "    ax.plot(line2, label=label2, linewidth=lw)\n",
    "    ax.plot(line3, label=label3, linewidth=lw)\n",
    "    ax.set_ylabel('price [USD]', fontsize=14)\n",
    "    ax.set_title(title, fontsize=16)\n",
    "    ax.legend(loc='best', fontsize=16)\n",
    "\n",
    "\n",
    "line_plot3(line1 = train_df.filter(['Close']), \n",
    "          line2 = val_df.filter(['Close']),\n",
    "          line3 = test_df.filter(['Close']), label1='training',label2='val',label3= 'test', title='')"
   ]
  },
  {
   "cell_type": "markdown",
   "metadata": {
    "id": "svkeQV7MGIX7"
   },
   "source": [
    "## Data Normalization"
   ]
  },
  {
   "cell_type": "code",
   "execution_count": null,
   "metadata": {
    "id": "OojEggmSGIX8"
   },
   "outputs": [],
   "source": [
    "def scale_func(df):\n",
    "    scaler = MinMaxScaler()\n",
    "    scaled_data = scaler.fit_transform(df)\n",
    "    scaled_data = pd.DataFrame(scaled_data,index=df.index, columns=df.columns)\n",
    "    return scaled_data, scaler\n",
    "\n",
    "scaled_train_df, scaler  = scale_func(train_df) \n",
    "scaled_val_df = pd.DataFrame(scaler.transform(val_df),index=val_df.index,columns=val_df.columns)\n",
    "scaled_test_df = pd.DataFrame(scaler.transform(test_df),index=test_df.index,columns=test_df.columns)"
   ]
  },
  {
   "cell_type": "code",
   "execution_count": null,
   "metadata": {
    "id": "UWlG0gfDGIX8"
   },
   "outputs": [],
   "source": [
    "#create the training data set\n",
    "def generate_input(df, window, target):\n",
    "    #create the scaled training data set\n",
    "    #Split the data into x_train and y_train data sets\n",
    "    x_train = []\n",
    "    y_train = []\n",
    "    for i in range(window, len(df)):\n",
    "        x_train.append(df.iloc[i-window:i, :][target])\n",
    "        y_train.append(df.iloc[i,:,][target])\n",
    "    x_train, y_train = np.array(x_train), np.array(y_train)\n",
    "    x_train = np.reshape(x_train, (x_train.shape[0], x_train.shape[1], 1))\n",
    "    return x_train, y_train\n",
    "def multiinput_generator(df, target, window):\n",
    "    feature_cols = df.columns  \n",
    "    x_train = []\n",
    "    y_train = []\n",
    "    for i in range(window, len(df)):\n",
    "        x_train.append(df.iloc[i-window:i,:])\n",
    "        y_train.append(df.iloc[i,:][target])\n",
    "    #convert x_train and y_train to numpy arrays\n",
    "    x_train, y_train = np.array(x_train), np.array(y_train)\n",
    "    return x_train,y_train\n"
   ]
  },
  {
   "cell_type": "code",
   "execution_count": null,
   "metadata": {
    "colab": {
     "base_uri": "https://localhost:8080/"
    },
    "id": "pewApiGuGIX8",
    "outputId": "fedb705d-fd4b-43eb-8b9d-9e1a679a308a"
   },
   "outputs": [
    {
     "name": "stdout",
     "output_type": "stream",
     "text": [
      "Training set: (1988, 15, 1)\n",
      "Validation set: (414, 15, 1)\n",
      "Test set: (415, 15, 1)\n"
     ]
    }
   ],
   "source": [
    "x_train, y_train = generate_input(scaled_train_df,15, \"Close\")\n",
    "#convert x_train and y_train to numpy arrays\n",
    "x_val, y_val = generate_input(scaled_val_df,15, \"Close\")\n",
    "x_test, y_test = generate_input(scaled_test_df,15, \"Close\")\n",
    "\n",
    "print(\"Training set:\",x_train.shape)\n",
    "print(\"Validation set:\",x_val.shape)\n",
    "print(\"Test set:\",x_test.shape)"
   ]
  },
  {
   "cell_type": "markdown",
   "metadata": {
    "id": "1oMh8quaGIX8"
   },
   "source": [
    "## Modeling"
   ]
  },
  {
   "cell_type": "code",
   "execution_count": null,
   "metadata": {
    "id": "NCkTDGUiGIX8"
   },
   "outputs": [],
   "source": [
    "def model_base_build(input_shape):\n",
    "    #build the lstm model\n",
    "    model = Sequential()\n",
    "    model.add(LSTM(100, return_sequences=True,kernel_regularizer=l2(0.01), recurrent_regularizer=l2(0.01), bias_regularizer=l2(0.01), input_shape = input_shape))\n",
    "    model.add(LSTM(100, return_sequences=False, dropout=0.2, recurrent_dropout=0.2))\n",
    "    model.add(Dense(1))\n",
    "    model.add(Activation('linear'))\n",
    "    #compile the model\n",
    "    model.compile(optimizer='adam', loss='mean_squared_error')\n",
    "    return model\n",
    "\n",
    "def model_class_build(input_shape):\n",
    "    #build the lstm model\n",
    "    model = Sequential()\n",
    "    #### Adding the first LSTM layer and some Dropout regularisation\n",
    "    model.add(LSTM(units = 50, return_sequences = True, input_shape = input_shape))\n",
    "    model.add(Dropout(0.2))\n",
    "    #### Adding a second LSTM layer and some Dropout regularisation\n",
    "    model.add(LSTM(units = 50, return_sequences = True))\n",
    "    model.add(Dropout(0.2))\n",
    "    #### Adding a third LSTM layer and some Dropout regularisation\n",
    "    model.add(LSTM(units = 50, return_sequences = True))\n",
    "    model.add(Dropout(0.2))\n",
    "    #### Adding a fourth LSTM layer and some Dropout regularisation\n",
    "    model.add(LSTM(units = 50))\n",
    "    model.add(Dropout(0.2))\n",
    "    #### Adding the output layer\n",
    "    model.add(Dense(units = 1))\n",
    "    model.add(Activation('linear'))\n",
    "    model.compile(optimizer='adam', loss='mean_squared_error')\n",
    "    return model\n",
    "\n",
    "def model_GRU_build(input_shape):\n",
    "    model = Sequential()\n",
    "    # Input layer\n",
    "    model.add(GRU(120,kernel_regularizer=l2(0.01), recurrent_regularizer=l2(0.01), bias_regularizer=l2(0.01), return_sequences = True, input_shape = input_shape))\n",
    "    model.add(Dropout(0.4)) \n",
    "    # Hidden layer\n",
    "    model.add(GRU(120)) \n",
    "    model.add(Dropout(0.4))\n",
    "    model.add(Dense(1))\n",
    "    model.add(Activation('linear'))\n",
    "    model.compile(optimizer='adam', loss='mean_squared_error')\n",
    "    return model\n",
    "\n",
    "def biLSTM_model(input_shape):\n",
    "    model = Sequential()\n",
    "    model.add(Bidirectional(LSTM(210,kernel_regularizer=l2(0.01), recurrent_regularizer=l2(0.01), bias_regularizer=l2(0.01), return_sequences=True, input_shape = (x_train.shape[1],1))))\n",
    "    model.add(Dropout(0.4))\n",
    "    model.add(Bidirectional(LSTM(210)))\n",
    "    model.add(Dropout(0.4))\n",
    "    model.add(Dense(1))\n",
    "    model.add(Activation('linear'))\n",
    "    model.compile(optimizer='adam', loss='mean_squared_error')\n",
    "    return model"
   ]
  },
  {
   "cell_type": "code",
   "execution_count": null,
   "metadata": {
    "id": "jmGQrHahGIX9"
   },
   "outputs": [],
   "source": [
    "def accuracy_forecast(target_val ,prediction_val):   \n",
    "    bi_targ = np.sign(target_val.rolling(window=2).apply(lambda x: x.iloc[1] - x.iloc[0]))[1:].values\n",
    "    bi_pred = np.sign(prediction_val.rolling(window=2).apply(lambda x: x.iloc[1] - x.iloc[0]))[1:].values\n",
    "    return accuracy_score(bi_targ,bi_pred)"
   ]
  },
  {
   "cell_type": "code",
   "execution_count": null,
   "metadata": {
    "colab": {
     "base_uri": "https://localhost:8080/"
    },
    "id": "uBmfeVuDGIX9",
    "outputId": "2bb965f6-b26d-4928-87cf-1a11da717daf"
   },
   "outputs": [
    {
     "name": "stdout",
     "output_type": "stream",
     "text": [
      "WARNING:tensorflow:Layer lstm_73 will not use cuDNN kernel since it doesn't meet the cuDNN kernel criteria. It will use generic GPU kernel as fallback when running on GPU\n"
     ]
    }
   ],
   "source": [
    "LSTM1 = model_base_build(input_shape= (x_train.shape[1],x_train.shape[2]))\n",
    "LSTM2 = model_class_build(input_shape= (x_train.shape[1],x_train.shape[2]))\n",
    "GRU_model = model_GRU_build(input_shape= (x_train.shape[1],x_train.shape[2]))\n",
    "biLSTM = biLSTM_model(input_shape= (x_train.shape[1],x_train.shape[2]))"
   ]
  },
  {
   "cell_type": "code",
   "execution_count": null,
   "metadata": {
    "colab": {
     "base_uri": "https://localhost:8080/"
    },
    "id": "P7PKn_ttGIX-",
    "outputId": "834ac467-f8a6-4535-a78b-3633a9bbccb4",
    "tags": [
     "outputPrepend"
    ]
   },
   "outputs": [
    {
     "name": "stdout",
     "output_type": "stream",
     "text": [
      "Epoch 1/80\n",
      "76/76 [==============================] - 13s 112ms/step - loss: 1.5933 - val_loss: 0.9404\n",
      "Epoch 2/80\n",
      "76/76 [==============================] - 8s 104ms/step - loss: 0.8759 - val_loss: 0.7363\n",
      "Epoch 3/80\n",
      "76/76 [==============================] - 8s 105ms/step - loss: 0.7048 - val_loss: 0.6156\n",
      "Epoch 4/80\n",
      "76/76 [==============================] - 8s 106ms/step - loss: 0.5901 - val_loss: 0.5152\n",
      "Epoch 5/80\n",
      "76/76 [==============================] - 8s 103ms/step - loss: 0.4932 - val_loss: 0.4298\n",
      "Epoch 6/80\n",
      "76/76 [==============================] - 8s 105ms/step - loss: 0.4096 - val_loss: 0.3543\n",
      "Epoch 7/80\n",
      "76/76 [==============================] - 8s 105ms/step - loss: 0.3373 - val_loss: 0.2892\n",
      "Epoch 8/80\n",
      "76/76 [==============================] - 8s 103ms/step - loss: 0.2755 - val_loss: 0.2354\n",
      "Epoch 9/80\n",
      "76/76 [==============================] - 8s 103ms/step - loss: 0.2228 - val_loss: 0.1886\n",
      "Epoch 10/80\n",
      "76/76 [==============================] - 8s 104ms/step - loss: 0.1785 - val_loss: 0.1497\n",
      "Epoch 11/80\n",
      "76/76 [==============================] - 8s 107ms/step - loss: 0.1414 - val_loss: 0.1173\n",
      "Epoch 12/80\n",
      "76/76 [==============================] - 8s 105ms/step - loss: 0.1107 - val_loss: 0.0913\n",
      "Epoch 13/80\n",
      "76/76 [==============================] - 8s 104ms/step - loss: 0.0858 - val_loss: 0.0706\n",
      "Epoch 14/80\n",
      "76/76 [==============================] - 8s 103ms/step - loss: 0.0659 - val_loss: 0.0532\n",
      "Epoch 15/80\n",
      "76/76 [==============================] - 8s 104ms/step - loss: 0.0500 - val_loss: 0.0397\n",
      "Epoch 16/80\n",
      "76/76 [==============================] - 8s 102ms/step - loss: 0.0375 - val_loss: 0.0294\n",
      "Epoch 17/80\n",
      "76/76 [==============================] - 8s 102ms/step - loss: 0.0276 - val_loss: 0.0213\n",
      "Epoch 18/80\n",
      "76/76 [==============================] - 8s 104ms/step - loss: 0.0205 - val_loss: 0.0156\n",
      "Epoch 19/80\n",
      "76/76 [==============================] - 8s 105ms/step - loss: 0.0144 - val_loss: 0.0110\n",
      "Epoch 20/80\n",
      "76/76 [==============================] - 8s 103ms/step - loss: 0.0104 - val_loss: 0.0078\n",
      "Epoch 21/80\n",
      "76/76 [==============================] - 8s 104ms/step - loss: 0.0073 - val_loss: 0.0053\n",
      "Epoch 22/80\n",
      "76/76 [==============================] - 8s 104ms/step - loss: 0.0052 - val_loss: 0.0040\n",
      "Epoch 23/80\n",
      "76/76 [==============================] - 8s 103ms/step - loss: 0.0038 - val_loss: 0.0026\n",
      "Epoch 24/80\n",
      "76/76 [==============================] - 8s 108ms/step - loss: 0.0027 - val_loss: 0.0020\n",
      "Epoch 25/80\n",
      "76/76 [==============================] - 8s 104ms/step - loss: 0.0019 - val_loss: 0.0014\n",
      "Epoch 26/80\n",
      "76/76 [==============================] - 8s 106ms/step - loss: 0.0016 - val_loss: 9.7474e-04\n",
      "Epoch 27/80\n",
      "76/76 [==============================] - 8s 104ms/step - loss: 0.0012 - val_loss: 0.0011\n",
      "Epoch 28/80\n",
      "76/76 [==============================] - 8s 104ms/step - loss: 0.0012 - val_loss: 6.1815e-04\n",
      "Epoch 29/80\n",
      "76/76 [==============================] - 8s 105ms/step - loss: 9.9325e-04 - val_loss: 5.4335e-04\n",
      "Epoch 30/80\n",
      "76/76 [==============================] - 8s 104ms/step - loss: 0.0010 - val_loss: 5.8265e-04\n",
      "Epoch 31/80\n",
      "76/76 [==============================] - 8s 104ms/step - loss: 8.3369e-04 - val_loss: 4.5194e-04\n",
      "Epoch 32/80\n",
      "76/76 [==============================] - 8s 106ms/step - loss: 6.8320e-04 - val_loss: 4.3362e-04\n",
      "Epoch 33/80\n",
      "76/76 [==============================] - 8s 104ms/step - loss: 9.7184e-04 - val_loss: 4.5320e-04\n",
      "Epoch 34/80\n",
      "76/76 [==============================] - 8s 103ms/step - loss: 6.7073e-04 - val_loss: 4.1878e-04\n",
      "Epoch 35/80\n",
      "76/76 [==============================] - 8s 105ms/step - loss: 6.9361e-04 - val_loss: 4.1869e-04\n",
      "Epoch 36/80\n",
      "76/76 [==============================] - 8s 106ms/step - loss: 7.2060e-04 - val_loss: 4.8683e-04\n",
      "Epoch 37/80\n",
      "76/76 [==============================] - 8s 106ms/step - loss: 8.5741e-04 - val_loss: 7.5486e-04\n",
      "Epoch 38/80\n",
      "76/76 [==============================] - 8s 104ms/step - loss: 0.0010 - val_loss: 5.4849e-04\n",
      "Epoch 39/80\n",
      "76/76 [==============================] - 8s 105ms/step - loss: 6.7050e-04 - val_loss: 4.5746e-04\n",
      "Epoch 40/80\n",
      "76/76 [==============================] - 8s 105ms/step - loss: 8.0320e-04 - val_loss: 3.8220e-04\n",
      "Epoch 41/80\n",
      "76/76 [==============================] - 8s 103ms/step - loss: 8.1015e-04 - val_loss: 8.5457e-04\n",
      "Epoch 42/80\n",
      "76/76 [==============================] - 8s 105ms/step - loss: 8.9885e-04 - val_loss: 4.3125e-04\n",
      "Epoch 43/80\n",
      "76/76 [==============================] - 8s 103ms/step - loss: 6.9528e-04 - val_loss: 8.5050e-04\n",
      "Epoch 44/80\n",
      "76/76 [==============================] - 8s 106ms/step - loss: 7.3642e-04 - val_loss: 3.9348e-04\n",
      "Epoch 45/80\n",
      "76/76 [==============================] - 8s 106ms/step - loss: 5.8897e-04 - val_loss: 6.0315e-04\n",
      "Epoch 46/80\n",
      "76/76 [==============================] - 8s 105ms/step - loss: 9.1654e-04 - val_loss: 3.8157e-04\n",
      "Epoch 47/80\n",
      "76/76 [==============================] - 8s 106ms/step - loss: 7.8413e-04 - val_loss: 3.6949e-04\n",
      "Epoch 48/80\n",
      "76/76 [==============================] - 8s 103ms/step - loss: 8.2416e-04 - val_loss: 4.0988e-04\n",
      "Epoch 49/80\n",
      "76/76 [==============================] - 8s 104ms/step - loss: 6.3805e-04 - val_loss: 5.3178e-04\n",
      "Epoch 50/80\n",
      "76/76 [==============================] - 8s 105ms/step - loss: 9.0616e-04 - val_loss: 7.9356e-04\n",
      "Epoch 51/80\n",
      "76/76 [==============================] - 8s 106ms/step - loss: 7.6685e-04 - val_loss: 3.5961e-04\n",
      "Epoch 52/80\n",
      "76/76 [==============================] - 8s 105ms/step - loss: 5.7492e-04 - val_loss: 5.8118e-04\n",
      "Epoch 53/80\n",
      "76/76 [==============================] - 8s 105ms/step - loss: 7.4434e-04 - val_loss: 3.9323e-04\n",
      "Epoch 54/80\n",
      "76/76 [==============================] - 8s 103ms/step - loss: 6.4652e-04 - val_loss: 5.3012e-04\n",
      "Epoch 55/80\n",
      "76/76 [==============================] - 8s 105ms/step - loss: 6.9002e-04 - val_loss: 3.8659e-04\n",
      "Epoch 56/80\n",
      "76/76 [==============================] - 8s 105ms/step - loss: 6.4901e-04 - val_loss: 3.6013e-04\n",
      "Epoch 57/80\n",
      "76/76 [==============================] - 8s 106ms/step - loss: 7.1664e-04 - val_loss: 3.4586e-04\n",
      "Epoch 58/80\n",
      "76/76 [==============================] - 8s 106ms/step - loss: 6.4651e-04 - val_loss: 9.1288e-04\n",
      "Epoch 59/80\n",
      "76/76 [==============================] - 8s 107ms/step - loss: 6.8406e-04 - val_loss: 5.0036e-04\n",
      "Epoch 60/80\n",
      "76/76 [==============================] - 8s 105ms/step - loss: 7.8498e-04 - val_loss: 4.5670e-04\n",
      "Epoch 61/80\n",
      "76/76 [==============================] - 8s 104ms/step - loss: 7.5483e-04 - val_loss: 6.8638e-04\n",
      "Epoch 62/80\n",
      "76/76 [==============================] - 8s 107ms/step - loss: 8.8057e-04 - val_loss: 3.4296e-04\n",
      "Epoch 63/80\n",
      "76/76 [==============================] - 8s 102ms/step - loss: 6.6904e-04 - val_loss: 5.2954e-04\n",
      "Epoch 64/80\n",
      "76/76 [==============================] - 8s 105ms/step - loss: 6.2041e-04 - val_loss: 3.4013e-04\n",
      "Epoch 65/80\n",
      "76/76 [==============================] - 8s 105ms/step - loss: 7.2861e-04 - val_loss: 5.1132e-04\n",
      "Epoch 66/80\n",
      "76/76 [==============================] - 8s 105ms/step - loss: 6.8712e-04 - val_loss: 3.3407e-04\n",
      "Epoch 67/80\n",
      "76/76 [==============================] - 8s 105ms/step - loss: 9.3201e-04 - val_loss: 3.4760e-04\n",
      "Epoch 68/80\n",
      "76/76 [==============================] - 8s 107ms/step - loss: 6.3406e-04 - val_loss: 4.3778e-04\n",
      "Epoch 69/80\n",
      "76/76 [==============================] - 8s 104ms/step - loss: 6.6921e-04 - val_loss: 4.2100e-04\n",
      "Epoch 70/80\n",
      "76/76 [==============================] - 8s 106ms/step - loss: 7.3175e-04 - val_loss: 5.3400e-04\n",
      "Epoch 71/80\n",
      "76/76 [==============================] - 8s 104ms/step - loss: 5.8435e-04 - val_loss: 5.6517e-04\n",
      "Epoch 72/80\n",
      "76/76 [==============================] - 8s 106ms/step - loss: 6.0044e-04 - val_loss: 3.5065e-04\n",
      "Epoch 73/80\n",
      "76/76 [==============================] - 8s 105ms/step - loss: 6.5534e-04 - val_loss: 3.9822e-04\n",
      "Epoch 74/80\n",
      "76/76 [==============================] - 8s 108ms/step - loss: 7.3885e-04 - val_loss: 3.1536e-04\n",
      "Epoch 75/80\n",
      "76/76 [==============================] - 8s 103ms/step - loss: 7.5312e-04 - val_loss: 3.9167e-04\n",
      "Epoch 76/80\n",
      "76/76 [==============================] - 8s 104ms/step - loss: 7.6033e-04 - val_loss: 4.0305e-04\n",
      "Epoch 77/80\n",
      "76/76 [==============================] - 8s 104ms/step - loss: 6.5508e-04 - val_loss: 3.1624e-04\n",
      "Epoch 78/80\n",
      "76/76 [==============================] - 8s 107ms/step - loss: 5.3301e-04 - val_loss: 4.9725e-04\n",
      "Epoch 79/80\n",
      "76/76 [==============================] - 8s 104ms/step - loss: 5.4284e-04 - val_loss: 4.7487e-04\n",
      "Epoch 80/80\n",
      "76/76 [==============================] - 8s 106ms/step - loss: 8.1147e-04 - val_loss: 5.5312e-04\n",
      "Epoch 1/80\n",
      "76/76 [==============================] - 9s 45ms/step - loss: 0.0086 - val_loss: 8.4326e-04\n",
      "Epoch 2/80\n",
      "76/76 [==============================] - 2s 24ms/step - loss: 0.0030 - val_loss: 9.7989e-04\n",
      "Epoch 3/80\n",
      "76/76 [==============================] - 2s 25ms/step - loss: 0.0017 - val_loss: 6.6809e-04\n",
      "Epoch 4/80\n",
      "76/76 [==============================] - 2s 24ms/step - loss: 0.0018 - val_loss: 8.0890e-04\n",
      "Epoch 5/80\n",
      "76/76 [==============================] - 2s 24ms/step - loss: 0.0013 - val_loss: 6.3887e-04\n",
      "Epoch 6/80\n",
      "76/76 [==============================] - 2s 24ms/step - loss: 0.0020 - val_loss: 4.6567e-04\n",
      "Epoch 7/80\n",
      "76/76 [==============================] - 2s 24ms/step - loss: 0.0013 - val_loss: 8.7693e-04\n",
      "Epoch 8/80\n",
      "76/76 [==============================] - 2s 24ms/step - loss: 0.0013 - val_loss: 4.2465e-04\n",
      "Epoch 9/80\n",
      "76/76 [==============================] - 2s 25ms/step - loss: 0.0011 - val_loss: 4.0682e-04\n",
      "Epoch 10/80\n",
      "76/76 [==============================] - 2s 24ms/step - loss: 0.0012 - val_loss: 3.7305e-04\n",
      "Epoch 11/80\n",
      "76/76 [==============================] - 2s 25ms/step - loss: 9.8552e-04 - val_loss: 4.5209e-04\n",
      "Epoch 12/80\n",
      "76/76 [==============================] - 2s 25ms/step - loss: 0.0015 - val_loss: 3.8649e-04\n",
      "Epoch 13/80\n",
      "76/76 [==============================] - 2s 25ms/step - loss: 7.9140e-04 - val_loss: 3.4271e-04\n",
      "Epoch 14/80\n",
      "76/76 [==============================] - 2s 25ms/step - loss: 0.0013 - val_loss: 4.8757e-04\n",
      "Epoch 15/80\n",
      "76/76 [==============================] - 2s 24ms/step - loss: 9.3885e-04 - val_loss: 4.2116e-04\n",
      "Epoch 16/80\n",
      "76/76 [==============================] - 2s 25ms/step - loss: 9.5832e-04 - val_loss: 3.5414e-04\n",
      "Epoch 17/80\n",
      "76/76 [==============================] - 2s 25ms/step - loss: 9.2213e-04 - val_loss: 3.3786e-04\n",
      "Epoch 18/80\n",
      "76/76 [==============================] - 2s 25ms/step - loss: 8.0675e-04 - val_loss: 8.5302e-04\n",
      "Epoch 19/80\n",
      "76/76 [==============================] - 2s 25ms/step - loss: 9.8968e-04 - val_loss: 3.1130e-04\n",
      "Epoch 20/80\n",
      "76/76 [==============================] - 2s 24ms/step - loss: 0.0010 - val_loss: 2.5734e-04\n",
      "Epoch 21/80\n",
      "76/76 [==============================] - 2s 25ms/step - loss: 0.0016 - val_loss: 3.6232e-04\n",
      "Epoch 22/80\n",
      "76/76 [==============================] - 2s 25ms/step - loss: 7.4202e-04 - val_loss: 3.5345e-04\n",
      "Epoch 23/80\n",
      "76/76 [==============================] - 2s 25ms/step - loss: 8.2647e-04 - val_loss: 2.9541e-04\n",
      "Epoch 24/80\n",
      "76/76 [==============================] - 2s 25ms/step - loss: 8.3458e-04 - val_loss: 2.5772e-04\n",
      "Epoch 25/80\n",
      "76/76 [==============================] - 2s 25ms/step - loss: 6.2887e-04 - val_loss: 2.4473e-04\n",
      "Epoch 26/80\n",
      "76/76 [==============================] - 2s 24ms/step - loss: 6.6306e-04 - val_loss: 3.3156e-04\n",
      "Epoch 27/80\n",
      "76/76 [==============================] - 2s 25ms/step - loss: 8.6483e-04 - val_loss: 2.2869e-04\n",
      "Epoch 28/80\n",
      "76/76 [==============================] - 2s 25ms/step - loss: 5.6958e-04 - val_loss: 3.1603e-04\n",
      "Epoch 29/80\n",
      "76/76 [==============================] - 2s 25ms/step - loss: 8.4998e-04 - val_loss: 6.9830e-04\n",
      "Epoch 30/80\n",
      "76/76 [==============================] - 2s 25ms/step - loss: 0.0010 - val_loss: 3.5717e-04\n",
      "Epoch 31/80\n",
      "76/76 [==============================] - 2s 25ms/step - loss: 9.1588e-04 - val_loss: 2.2066e-04\n",
      "Epoch 32/80\n",
      "76/76 [==============================] - 2s 24ms/step - loss: 6.9790e-04 - val_loss: 4.3705e-04\n",
      "Epoch 33/80\n",
      "76/76 [==============================] - 2s 25ms/step - loss: 8.3279e-04 - val_loss: 2.1505e-04\n",
      "Epoch 34/80\n",
      "76/76 [==============================] - 2s 25ms/step - loss: 7.1720e-04 - val_loss: 2.1988e-04\n",
      "Epoch 35/80\n",
      "76/76 [==============================] - 2s 24ms/step - loss: 6.6669e-04 - val_loss: 2.0487e-04\n",
      "Epoch 36/80\n",
      "76/76 [==============================] - 2s 25ms/step - loss: 4.9053e-04 - val_loss: 2.0120e-04\n",
      "Epoch 37/80\n",
      "76/76 [==============================] - 2s 25ms/step - loss: 6.6782e-04 - val_loss: 5.4356e-04\n",
      "Epoch 38/80\n",
      "76/76 [==============================] - 2s 25ms/step - loss: 8.3450e-04 - val_loss: 1.8988e-04\n",
      "Epoch 39/80\n",
      "76/76 [==============================] - 2s 25ms/step - loss: 7.4669e-04 - val_loss: 2.0622e-04\n",
      "Epoch 40/80\n",
      "76/76 [==============================] - 2s 25ms/step - loss: 8.0397e-04 - val_loss: 2.0958e-04\n",
      "Epoch 41/80\n",
      "76/76 [==============================] - 2s 25ms/step - loss: 6.4631e-04 - val_loss: 1.9175e-04\n",
      "Epoch 42/80\n",
      "76/76 [==============================] - 2s 25ms/step - loss: 5.7782e-04 - val_loss: 4.9571e-04\n",
      "Epoch 43/80\n",
      "76/76 [==============================] - 2s 24ms/step - loss: 6.5858e-04 - val_loss: 3.9084e-04\n",
      "Epoch 44/80\n",
      "76/76 [==============================] - 2s 25ms/step - loss: 6.4796e-04 - val_loss: 1.8011e-04\n",
      "Epoch 45/80\n",
      "76/76 [==============================] - 2s 25ms/step - loss: 6.5920e-04 - val_loss: 3.1368e-04\n",
      "Epoch 46/80\n",
      "76/76 [==============================] - 2s 25ms/step - loss: 5.2774e-04 - val_loss: 1.9575e-04\n",
      "Epoch 47/80\n",
      "76/76 [==============================] - 2s 25ms/step - loss: 5.7220e-04 - val_loss: 4.1986e-04\n",
      "Epoch 48/80\n",
      "76/76 [==============================] - 2s 25ms/step - loss: 7.1313e-04 - val_loss: 2.1352e-04\n",
      "Epoch 49/80\n",
      "76/76 [==============================] - 2s 25ms/step - loss: 6.0436e-04 - val_loss: 1.7963e-04\n",
      "Epoch 50/80\n",
      "76/76 [==============================] - 2s 25ms/step - loss: 4.8128e-04 - val_loss: 1.7221e-04\n",
      "Epoch 51/80\n",
      "76/76 [==============================] - 2s 25ms/step - loss: 5.7318e-04 - val_loss: 1.7136e-04\n",
      "Epoch 52/80\n",
      "76/76 [==============================] - 2s 24ms/step - loss: 5.3556e-04 - val_loss: 2.7287e-04\n",
      "Epoch 53/80\n",
      "76/76 [==============================] - 2s 25ms/step - loss: 5.0829e-04 - val_loss: 1.5133e-04\n",
      "Epoch 54/80\n",
      "76/76 [==============================] - 2s 24ms/step - loss: 4.9269e-04 - val_loss: 2.1512e-04\n",
      "Epoch 55/80\n",
      "76/76 [==============================] - 2s 25ms/step - loss: 6.3252e-04 - val_loss: 1.6334e-04\n",
      "Epoch 56/80\n",
      "76/76 [==============================] - 2s 25ms/step - loss: 5.8970e-04 - val_loss: 1.7063e-04\n",
      "Epoch 57/80\n",
      "76/76 [==============================] - 2s 25ms/step - loss: 6.5576e-04 - val_loss: 2.5506e-04\n",
      "Epoch 58/80\n",
      "76/76 [==============================] - 2s 25ms/step - loss: 7.4615e-04 - val_loss: 1.7293e-04\n",
      "Epoch 59/80\n",
      "76/76 [==============================] - 2s 25ms/step - loss: 7.4042e-04 - val_loss: 1.4870e-04\n",
      "Epoch 60/80\n",
      "76/76 [==============================] - 2s 25ms/step - loss: 5.3259e-04 - val_loss: 2.0187e-04\n",
      "Epoch 61/80\n",
      "76/76 [==============================] - 2s 24ms/step - loss: 4.4096e-04 - val_loss: 1.7732e-04\n",
      "Epoch 62/80\n",
      "76/76 [==============================] - 2s 24ms/step - loss: 4.3858e-04 - val_loss: 6.2301e-04\n",
      "Epoch 63/80\n",
      "76/76 [==============================] - 2s 25ms/step - loss: 5.5948e-04 - val_loss: 2.2018e-04\n",
      "Epoch 64/80\n",
      "76/76 [==============================] - 2s 24ms/step - loss: 4.1770e-04 - val_loss: 1.5105e-04\n",
      "Epoch 65/80\n",
      "76/76 [==============================] - 2s 25ms/step - loss: 5.1278e-04 - val_loss: 1.6848e-04\n",
      "Epoch 66/80\n",
      "76/76 [==============================] - 2s 25ms/step - loss: 4.6986e-04 - val_loss: 1.8362e-04\n",
      "Epoch 67/80\n",
      "76/76 [==============================] - 2s 24ms/step - loss: 7.1573e-04 - val_loss: 1.4221e-04\n",
      "Epoch 68/80\n",
      "76/76 [==============================] - 2s 25ms/step - loss: 4.9416e-04 - val_loss: 1.3538e-04\n",
      "Epoch 69/80\n",
      "76/76 [==============================] - 2s 24ms/step - loss: 5.7509e-04 - val_loss: 6.1927e-04\n",
      "Epoch 70/80\n",
      "76/76 [==============================] - 2s 25ms/step - loss: 6.9904e-04 - val_loss: 1.3190e-04\n",
      "Epoch 71/80\n",
      "76/76 [==============================] - 2s 25ms/step - loss: 6.6885e-04 - val_loss: 1.3563e-04\n",
      "Epoch 72/80\n",
      "76/76 [==============================] - 2s 24ms/step - loss: 5.5914e-04 - val_loss: 1.4507e-04\n",
      "Epoch 73/80\n",
      "76/76 [==============================] - 2s 25ms/step - loss: 5.3476e-04 - val_loss: 1.2921e-04\n",
      "Epoch 74/80\n",
      "76/76 [==============================] - 2s 25ms/step - loss: 3.7805e-04 - val_loss: 1.6146e-04\n",
      "Epoch 75/80\n",
      "76/76 [==============================] - 2s 24ms/step - loss: 6.6031e-04 - val_loss: 1.2690e-04\n",
      "Epoch 76/80\n",
      "76/76 [==============================] - 2s 25ms/step - loss: 5.4157e-04 - val_loss: 1.3729e-04\n",
      "Epoch 77/80\n",
      "76/76 [==============================] - 2s 25ms/step - loss: 4.2113e-04 - val_loss: 1.3383e-04\n",
      "Epoch 78/80\n",
      "76/76 [==============================] - 2s 24ms/step - loss: 4.9154e-04 - val_loss: 1.2437e-04\n",
      "Epoch 79/80\n",
      "76/76 [==============================] - 2s 25ms/step - loss: 4.6243e-04 - val_loss: 1.6890e-04\n",
      "Epoch 80/80\n",
      "76/76 [==============================] - 2s 25ms/step - loss: 4.2013e-04 - val_loss: 1.4332e-04\n",
      "Epoch 1/80\n",
      "76/76 [==============================] - 5s 24ms/step - loss: 0.7668 - val_loss: 0.1142\n",
      "Epoch 2/80\n",
      "76/76 [==============================] - 1s 14ms/step - loss: 0.0729 - val_loss: 0.0135\n",
      "Epoch 3/80\n",
      "76/76 [==============================] - 1s 14ms/step - loss: 0.0093 - val_loss: 0.0039\n",
      "Epoch 4/80\n",
      "76/76 [==============================] - 1s 14ms/step - loss: 0.0026 - val_loss: 8.7667e-04\n",
      "Epoch 5/80\n",
      "76/76 [==============================] - 1s 14ms/step - loss: 0.0013 - val_loss: 7.1793e-04\n",
      "Epoch 6/80\n",
      "76/76 [==============================] - 1s 14ms/step - loss: 0.0013 - val_loss: 7.8613e-04\n",
      "Epoch 7/80\n",
      "76/76 [==============================] - 1s 14ms/step - loss: 0.0017 - val_loss: 0.0013\n",
      "Epoch 8/80\n",
      "76/76 [==============================] - 1s 14ms/step - loss: 0.0019 - val_loss: 6.9224e-04\n",
      "Epoch 9/80\n",
      "76/76 [==============================] - 1s 14ms/step - loss: 0.0011 - val_loss: 6.1781e-04\n",
      "Epoch 10/80\n",
      "76/76 [==============================] - 1s 14ms/step - loss: 0.0013 - val_loss: 0.0011\n",
      "Epoch 11/80\n",
      "76/76 [==============================] - 1s 14ms/step - loss: 0.0019 - val_loss: 0.0012\n",
      "Epoch 12/80\n",
      "76/76 [==============================] - 1s 14ms/step - loss: 0.0013 - val_loss: 0.0013\n",
      "Epoch 13/80\n",
      "76/76 [==============================] - 1s 14ms/step - loss: 0.0010 - val_loss: 7.2106e-04\n",
      "Epoch 14/80\n",
      "76/76 [==============================] - 1s 14ms/step - loss: 9.4918e-04 - val_loss: 0.0010\n",
      "Epoch 15/80\n",
      "76/76 [==============================] - 1s 14ms/step - loss: 0.0014 - val_loss: 5.0117e-04\n",
      "Epoch 16/80\n",
      "76/76 [==============================] - 1s 14ms/step - loss: 0.0014 - val_loss: 5.4178e-04\n",
      "Epoch 17/80\n",
      "76/76 [==============================] - 1s 14ms/step - loss: 0.0011 - val_loss: 6.2175e-04\n",
      "Epoch 18/80\n",
      "76/76 [==============================] - 1s 14ms/step - loss: 0.0014 - val_loss: 4.7582e-04\n",
      "Epoch 19/80\n",
      "76/76 [==============================] - 1s 14ms/step - loss: 0.0010 - val_loss: 5.7863e-04\n",
      "Epoch 20/80\n",
      "76/76 [==============================] - 1s 14ms/step - loss: 0.0014 - val_loss: 5.3058e-04\n",
      "Epoch 21/80\n",
      "76/76 [==============================] - 1s 14ms/step - loss: 0.0012 - val_loss: 5.0479e-04\n",
      "Epoch 22/80\n",
      "76/76 [==============================] - 1s 14ms/step - loss: 9.6957e-04 - val_loss: 7.1533e-04\n",
      "Epoch 23/80\n",
      "76/76 [==============================] - 1s 14ms/step - loss: 0.0011 - val_loss: 5.1317e-04\n",
      "Epoch 24/80\n",
      "76/76 [==============================] - 1s 14ms/step - loss: 0.0010 - val_loss: 5.0770e-04\n",
      "Epoch 25/80\n",
      "76/76 [==============================] - 1s 13ms/step - loss: 0.0014 - val_loss: 5.0875e-04\n",
      "Epoch 26/80\n",
      "76/76 [==============================] - 1s 14ms/step - loss: 0.0011 - val_loss: 4.6795e-04\n",
      "Epoch 27/80\n",
      "76/76 [==============================] - 1s 14ms/step - loss: 9.2407e-04 - val_loss: 5.5945e-04\n",
      "Epoch 28/80\n",
      "76/76 [==============================] - 1s 14ms/step - loss: 0.0012 - val_loss: 4.8361e-04\n",
      "Epoch 29/80\n",
      "76/76 [==============================] - 1s 14ms/step - loss: 0.0012 - val_loss: 6.2578e-04\n",
      "Epoch 30/80\n",
      "76/76 [==============================] - 1s 14ms/step - loss: 0.0013 - val_loss: 5.7264e-04\n",
      "Epoch 31/80\n",
      "76/76 [==============================] - 1s 14ms/step - loss: 0.0013 - val_loss: 4.3790e-04\n",
      "Epoch 32/80\n",
      "76/76 [==============================] - 1s 14ms/step - loss: 8.3890e-04 - val_loss: 6.0097e-04\n",
      "Epoch 33/80\n",
      "76/76 [==============================] - 1s 14ms/step - loss: 8.9880e-04 - val_loss: 0.0010\n",
      "Epoch 34/80\n",
      "76/76 [==============================] - 1s 14ms/step - loss: 0.0011 - val_loss: 4.3614e-04\n",
      "Epoch 35/80\n",
      "76/76 [==============================] - 1s 14ms/step - loss: 8.0473e-04 - val_loss: 5.4398e-04\n",
      "Epoch 36/80\n",
      "76/76 [==============================] - 1s 14ms/step - loss: 0.0011 - val_loss: 3.7969e-04\n",
      "Epoch 37/80\n",
      "76/76 [==============================] - 1s 14ms/step - loss: 7.7635e-04 - val_loss: 0.0021\n",
      "Epoch 38/80\n",
      "76/76 [==============================] - 1s 14ms/step - loss: 0.0013 - val_loss: 9.3964e-04\n",
      "Epoch 39/80\n",
      "76/76 [==============================] - 1s 14ms/step - loss: 9.7474e-04 - val_loss: 0.0017\n",
      "Epoch 40/80\n",
      "76/76 [==============================] - 1s 14ms/step - loss: 0.0016 - val_loss: 8.0057e-04\n",
      "Epoch 41/80\n",
      "76/76 [==============================] - 1s 14ms/step - loss: 0.0010 - val_loss: 6.1321e-04\n",
      "Epoch 42/80\n",
      "76/76 [==============================] - 1s 14ms/step - loss: 9.8515e-04 - val_loss: 4.2016e-04\n",
      "Epoch 43/80\n",
      "76/76 [==============================] - 1s 14ms/step - loss: 0.0011 - val_loss: 4.0024e-04\n",
      "Epoch 44/80\n",
      "76/76 [==============================] - 1s 14ms/step - loss: 0.0012 - val_loss: 4.1512e-04\n",
      "Epoch 45/80\n",
      "76/76 [==============================] - 1s 14ms/step - loss: 9.3923e-04 - val_loss: 0.0032\n",
      "Epoch 46/80\n",
      "76/76 [==============================] - 1s 14ms/step - loss: 0.0017 - val_loss: 4.8730e-04\n",
      "Epoch 47/80\n",
      "76/76 [==============================] - 1s 14ms/step - loss: 8.4518e-04 - val_loss: 8.9119e-04\n",
      "Epoch 48/80\n",
      "76/76 [==============================] - 1s 14ms/step - loss: 0.0012 - val_loss: 8.0269e-04\n",
      "Epoch 49/80\n",
      "76/76 [==============================] - 1s 14ms/step - loss: 0.0013 - val_loss: 3.8809e-04\n",
      "Epoch 50/80\n",
      "76/76 [==============================] - 1s 14ms/step - loss: 9.4161e-04 - val_loss: 9.7406e-04\n",
      "Epoch 51/80\n",
      "76/76 [==============================] - 1s 14ms/step - loss: 0.0012 - val_loss: 0.0012\n",
      "Epoch 52/80\n",
      "76/76 [==============================] - 1s 14ms/step - loss: 0.0014 - val_loss: 3.9543e-04\n",
      "Epoch 53/80\n",
      "76/76 [==============================] - 1s 14ms/step - loss: 0.0011 - val_loss: 5.7083e-04\n",
      "Epoch 54/80\n",
      "76/76 [==============================] - 1s 14ms/step - loss: 0.0011 - val_loss: 4.7572e-04\n",
      "Epoch 55/80\n",
      "76/76 [==============================] - 1s 14ms/step - loss: 0.0011 - val_loss: 7.1067e-04\n",
      "Epoch 56/80\n",
      "76/76 [==============================] - 1s 14ms/step - loss: 0.0013 - val_loss: 6.5301e-04\n",
      "Epoch 57/80\n",
      "76/76 [==============================] - 1s 14ms/step - loss: 0.0013 - val_loss: 8.6324e-04\n",
      "Epoch 58/80\n",
      "76/76 [==============================] - 1s 14ms/step - loss: 9.0071e-04 - val_loss: 4.7614e-04\n",
      "Epoch 59/80\n",
      "76/76 [==============================] - 1s 14ms/step - loss: 0.0012 - val_loss: 4.7161e-04\n",
      "Epoch 60/80\n",
      "76/76 [==============================] - 1s 14ms/step - loss: 8.7260e-04 - val_loss: 3.8704e-04\n",
      "Epoch 61/80\n",
      "76/76 [==============================] - 1s 14ms/step - loss: 8.4241e-04 - val_loss: 5.9044e-04\n",
      "Epoch 62/80\n",
      "76/76 [==============================] - 1s 14ms/step - loss: 0.0012 - val_loss: 6.0370e-04\n",
      "Epoch 63/80\n",
      "76/76 [==============================] - 1s 14ms/step - loss: 0.0011 - val_loss: 8.2616e-04\n",
      "Epoch 64/80\n",
      "76/76 [==============================] - 1s 14ms/step - loss: 0.0013 - val_loss: 4.5871e-04\n",
      "Epoch 65/80\n",
      "76/76 [==============================] - 1s 14ms/step - loss: 0.0012 - val_loss: 5.6888e-04\n",
      "Epoch 66/80\n",
      "76/76 [==============================] - 1s 14ms/step - loss: 8.5123e-04 - val_loss: 7.3655e-04\n",
      "Epoch 67/80\n",
      "76/76 [==============================] - 1s 14ms/step - loss: 9.3257e-04 - val_loss: 5.0728e-04\n",
      "Epoch 68/80\n",
      "76/76 [==============================] - 1s 14ms/step - loss: 0.0010 - val_loss: 3.9707e-04\n",
      "Epoch 69/80\n",
      "76/76 [==============================] - 1s 14ms/step - loss: 9.6441e-04 - val_loss: 5.9388e-04\n",
      "Epoch 70/80\n",
      "76/76 [==============================] - 1s 14ms/step - loss: 0.0011 - val_loss: 3.9683e-04\n",
      "Epoch 71/80\n",
      "76/76 [==============================] - 1s 14ms/step - loss: 0.0012 - val_loss: 4.6671e-04\n",
      "Epoch 72/80\n",
      "76/76 [==============================] - 1s 14ms/step - loss: 9.2641e-04 - val_loss: 4.7589e-04\n",
      "Epoch 73/80\n",
      "76/76 [==============================] - 1s 14ms/step - loss: 7.8697e-04 - val_loss: 7.1817e-04\n",
      "Epoch 74/80\n",
      "76/76 [==============================] - 1s 14ms/step - loss: 8.4960e-04 - val_loss: 5.0948e-04\n",
      "Epoch 75/80\n",
      "76/76 [==============================] - 1s 14ms/step - loss: 8.0892e-04 - val_loss: 4.6665e-04\n",
      "Epoch 76/80\n",
      "76/76 [==============================] - 1s 14ms/step - loss: 0.0013 - val_loss: 4.0811e-04\n",
      "Epoch 77/80\n",
      "76/76 [==============================] - 1s 14ms/step - loss: 0.0011 - val_loss: 5.5377e-04\n",
      "Epoch 78/80\n",
      "76/76 [==============================] - 1s 14ms/step - loss: 9.7328e-04 - val_loss: 4.3979e-04\n",
      "Epoch 79/80\n",
      "76/76 [==============================] - 1s 14ms/step - loss: 0.0011 - val_loss: 6.4019e-04\n",
      "Epoch 80/80\n",
      "76/76 [==============================] - 1s 14ms/step - loss: 9.4736e-04 - val_loss: 3.8249e-04\n",
      "Epoch 1/80\n",
      "76/76 [==============================] - 13s 59ms/step - loss: 6.2392 - val_loss: 3.6900\n",
      "Epoch 2/80\n",
      "76/76 [==============================] - 3s 37ms/step - loss: 3.5055 - val_loss: 3.0571\n",
      "Epoch 3/80\n",
      "76/76 [==============================] - 3s 38ms/step - loss: 2.9336 - val_loss: 2.5781\n",
      "Epoch 4/80\n",
      "76/76 [==============================] - 3s 37ms/step - loss: 2.4711 - val_loss: 2.1604\n",
      "Epoch 5/80\n",
      "76/76 [==============================] - 3s 38ms/step - loss: 2.0672 - val_loss: 1.7981\n",
      "Epoch 6/80\n",
      "76/76 [==============================] - 3s 38ms/step - loss: 1.7163 - val_loss: 1.4823\n",
      "Epoch 7/80\n",
      "76/76 [==============================] - 3s 38ms/step - loss: 1.4129 - val_loss: 1.2117\n",
      "Epoch 8/80\n",
      "76/76 [==============================] - 3s 38ms/step - loss: 1.1524 - val_loss: 0.9816\n",
      "Epoch 9/80\n",
      "76/76 [==============================] - 3s 38ms/step - loss: 0.9312 - val_loss: 0.7878\n",
      "Epoch 10/80\n",
      "76/76 [==============================] - 3s 37ms/step - loss: 0.7458 - val_loss: 0.6252\n",
      "Epoch 11/80\n",
      "76/76 [==============================] - 3s 38ms/step - loss: 0.5903 - val_loss: 0.4908\n",
      "Epoch 12/80\n",
      "76/76 [==============================] - 3s 38ms/step - loss: 0.4620 - val_loss: 0.3807\n",
      "Epoch 13/80\n",
      "76/76 [==============================] - 3s 38ms/step - loss: 0.3579 - val_loss: 0.2917\n",
      "Epoch 14/80\n",
      "76/76 [==============================] - 3s 38ms/step - loss: 0.2734 - val_loss: 0.2214\n",
      "Epoch 15/80\n",
      "76/76 [==============================] - 3s 37ms/step - loss: 0.2066 - val_loss: 0.1647\n",
      "Epoch 16/80\n",
      "76/76 [==============================] - 3s 38ms/step - loss: 0.1537 - val_loss: 0.1212\n",
      "Epoch 17/80\n",
      "76/76 [==============================] - 3s 37ms/step - loss: 0.1126 - val_loss: 0.0879\n",
      "Epoch 18/80\n",
      "76/76 [==============================] - 3s 38ms/step - loss: 0.0818 - val_loss: 0.0628\n",
      "Epoch 19/80\n",
      "76/76 [==============================] - 3s 37ms/step - loss: 0.0582 - val_loss: 0.0440\n",
      "Epoch 20/80\n",
      "76/76 [==============================] - 3s 37ms/step - loss: 0.0409 - val_loss: 0.0304\n",
      "Epoch 21/80\n",
      "76/76 [==============================] - 3s 37ms/step - loss: 0.0284 - val_loss: 0.0209\n",
      "Epoch 22/80\n",
      "76/76 [==============================] - 3s 36ms/step - loss: 0.0196 - val_loss: 0.0144\n",
      "Epoch 23/80\n",
      "76/76 [==============================] - 3s 37ms/step - loss: 0.0131 - val_loss: 0.0097\n",
      "Epoch 24/80\n",
      "76/76 [==============================] - 3s 37ms/step - loss: 0.0091 - val_loss: 0.0070\n",
      "Epoch 25/80\n",
      "76/76 [==============================] - 3s 36ms/step - loss: 0.0062 - val_loss: 0.0039\n",
      "Epoch 26/80\n",
      "76/76 [==============================] - 3s 37ms/step - loss: 0.0042 - val_loss: 0.0025\n",
      "Epoch 27/80\n",
      "76/76 [==============================] - 3s 37ms/step - loss: 0.0027 - val_loss: 0.0018\n",
      "Epoch 28/80\n",
      "76/76 [==============================] - 3s 37ms/step - loss: 0.0022 - val_loss: 0.0019\n",
      "Epoch 29/80\n",
      "76/76 [==============================] - 3s 37ms/step - loss: 0.0021 - val_loss: 8.8950e-04\n",
      "Epoch 30/80\n",
      "76/76 [==============================] - 3s 37ms/step - loss: 0.0013 - val_loss: 7.3739e-04\n",
      "Epoch 31/80\n",
      "76/76 [==============================] - 3s 37ms/step - loss: 0.0013 - val_loss: 7.4874e-04\n",
      "Epoch 32/80\n",
      "76/76 [==============================] - 3s 37ms/step - loss: 0.0010 - val_loss: 5.7869e-04\n",
      "Epoch 33/80\n",
      "76/76 [==============================] - 3s 37ms/step - loss: 9.7926e-04 - val_loss: 6.3590e-04\n",
      "Epoch 34/80\n",
      "76/76 [==============================] - 3s 37ms/step - loss: 9.0006e-04 - val_loss: 5.0242e-04\n",
      "Epoch 35/80\n",
      "76/76 [==============================] - 3s 37ms/step - loss: 9.0748e-04 - val_loss: 9.1801e-04\n",
      "Epoch 36/80\n",
      "76/76 [==============================] - 3s 37ms/step - loss: 0.0014 - val_loss: 8.8574e-04\n",
      "Epoch 37/80\n",
      "76/76 [==============================] - 3s 37ms/step - loss: 8.1155e-04 - val_loss: 6.4840e-04\n",
      "Epoch 38/80\n",
      "76/76 [==============================] - 3s 37ms/step - loss: 0.0013 - val_loss: 4.4276e-04\n",
      "Epoch 39/80\n",
      "76/76 [==============================] - 3s 37ms/step - loss: 8.2886e-04 - val_loss: 4.7597e-04\n",
      "Epoch 40/80\n",
      "76/76 [==============================] - 3s 37ms/step - loss: 8.5907e-04 - val_loss: 6.4888e-04\n",
      "Epoch 41/80\n",
      "76/76 [==============================] - 3s 37ms/step - loss: 0.0010 - val_loss: 0.0017\n",
      "Epoch 42/80\n",
      "76/76 [==============================] - 3s 37ms/step - loss: 0.0013 - val_loss: 5.5058e-04\n",
      "Epoch 43/80\n",
      "76/76 [==============================] - 3s 37ms/step - loss: 0.0011 - val_loss: 0.0012\n",
      "Epoch 44/80\n",
      "76/76 [==============================] - 3s 37ms/step - loss: 0.0014 - val_loss: 4.8222e-04\n",
      "Epoch 45/80\n",
      "76/76 [==============================] - 3s 37ms/step - loss: 9.0295e-04 - val_loss: 5.7335e-04\n",
      "Epoch 46/80\n",
      "76/76 [==============================] - 3s 36ms/step - loss: 8.5812e-04 - val_loss: 0.0011\n",
      "Epoch 47/80\n",
      "76/76 [==============================] - 3s 37ms/step - loss: 0.0011 - val_loss: 5.9097e-04\n",
      "Epoch 48/80\n",
      "76/76 [==============================] - 3s 37ms/step - loss: 7.9561e-04 - val_loss: 8.5032e-04\n",
      "Epoch 49/80\n",
      "76/76 [==============================] - 3s 37ms/step - loss: 0.0011 - val_loss: 4.7276e-04\n",
      "Epoch 50/80\n",
      "76/76 [==============================] - 3s 37ms/step - loss: 0.0011 - val_loss: 3.8525e-04\n",
      "Epoch 51/80\n",
      "76/76 [==============================] - 3s 37ms/step - loss: 0.0010 - val_loss: 4.0984e-04\n",
      "Epoch 52/80\n",
      "76/76 [==============================] - 3s 37ms/step - loss: 7.3721e-04 - val_loss: 7.6082e-04\n",
      "Epoch 53/80\n",
      "76/76 [==============================] - 3s 37ms/step - loss: 8.4220e-04 - val_loss: 0.0028\n",
      "Epoch 54/80\n",
      "76/76 [==============================] - 3s 36ms/step - loss: 0.0011 - val_loss: 6.6753e-04\n",
      "Epoch 55/80\n",
      "76/76 [==============================] - 3s 37ms/step - loss: 8.2095e-04 - val_loss: 4.4890e-04\n",
      "Epoch 56/80\n",
      "76/76 [==============================] - 3s 37ms/step - loss: 9.5444e-04 - val_loss: 4.2548e-04\n",
      "Epoch 57/80\n",
      "76/76 [==============================] - 3s 37ms/step - loss: 9.8278e-04 - val_loss: 8.5489e-04\n",
      "Epoch 58/80\n",
      "76/76 [==============================] - 3s 37ms/step - loss: 8.2497e-04 - val_loss: 4.3342e-04\n",
      "Epoch 59/80\n",
      "76/76 [==============================] - 3s 37ms/step - loss: 8.7809e-04 - val_loss: 8.9070e-04\n",
      "Epoch 60/80\n",
      "76/76 [==============================] - 3s 37ms/step - loss: 8.7747e-04 - val_loss: 0.0015\n",
      "Epoch 61/80\n",
      "76/76 [==============================] - 3s 38ms/step - loss: 0.0012 - val_loss: 7.4376e-04\n",
      "Epoch 62/80\n",
      "76/76 [==============================] - 3s 37ms/step - loss: 8.5620e-04 - val_loss: 4.8492e-04\n",
      "Epoch 63/80\n",
      "76/76 [==============================] - 3s 37ms/step - loss: 0.0011 - val_loss: 4.3887e-04\n",
      "Epoch 64/80\n",
      "76/76 [==============================] - 3s 37ms/step - loss: 0.0012 - val_loss: 7.1640e-04\n",
      "Epoch 65/80\n",
      "76/76 [==============================] - 3s 38ms/step - loss: 8.5813e-04 - val_loss: 4.2304e-04\n",
      "Epoch 66/80\n",
      "76/76 [==============================] - 3s 37ms/step - loss: 8.7787e-04 - val_loss: 4.4676e-04\n",
      "Epoch 67/80\n",
      "76/76 [==============================] - 3s 37ms/step - loss: 8.5363e-04 - val_loss: 3.9093e-04\n",
      "Epoch 68/80\n",
      "76/76 [==============================] - 3s 37ms/step - loss: 7.8988e-04 - val_loss: 5.0421e-04\n",
      "Epoch 69/80\n",
      "76/76 [==============================] - 3s 37ms/step - loss: 0.0011 - val_loss: 4.7012e-04\n",
      "Epoch 70/80\n",
      "76/76 [==============================] - 3s 37ms/step - loss: 7.4009e-04 - val_loss: 5.5515e-04\n",
      "Epoch 71/80\n",
      "76/76 [==============================] - 3s 37ms/step - loss: 9.2878e-04 - val_loss: 3.9850e-04\n",
      "Epoch 72/80\n",
      "76/76 [==============================] - 3s 37ms/step - loss: 7.8707e-04 - val_loss: 5.2002e-04\n",
      "Epoch 73/80\n",
      "76/76 [==============================] - 3s 38ms/step - loss: 0.0010 - val_loss: 4.3133e-04\n",
      "Epoch 74/80\n",
      "76/76 [==============================] - 3s 37ms/step - loss: 8.3633e-04 - val_loss: 5.1132e-04\n",
      "Epoch 75/80\n",
      "76/76 [==============================] - 3s 37ms/step - loss: 7.6796e-04 - val_loss: 4.0351e-04\n",
      "Epoch 76/80\n",
      "76/76 [==============================] - 3s 37ms/step - loss: 7.1941e-04 - val_loss: 3.5371e-04\n",
      "Epoch 77/80\n",
      "76/76 [==============================] - 3s 37ms/step - loss: 8.1079e-04 - val_loss: 3.7216e-04\n",
      "Epoch 78/80\n",
      "76/76 [==============================] - 3s 38ms/step - loss: 9.9522e-04 - val_loss: 0.0015\n",
      "Epoch 79/80\n",
      "76/76 [==============================] - 3s 38ms/step - loss: 9.1992e-04 - val_loss: 8.1114e-04\n",
      "Epoch 80/80\n",
      "76/76 [==============================] - 3s 37ms/step - loss: 8.1830e-04 - val_loss: 6.9239e-04\n"
     ]
    }
   ],
   "source": [
    "#train the model\n",
    "history1 = LSTM1.fit(x_train, y_train, batch_size=32, epochs=80,validation_data=(x_val,y_val))\n",
    "history2 = LSTM2.fit(x_train, y_train, batch_size=32, epochs=80,validation_data=(x_val,y_val))\n",
    "history3 = GRU_model.fit(x_train, y_train, batch_size=32, epochs=80,validation_data=(x_val,y_val))\n",
    "history4 = biLSTM.fit(x_train, y_train, batch_size=32, epochs=80,validation_data=(x_val,y_val))"
   ]
  },
  {
   "cell_type": "markdown",
   "metadata": {},
   "source": [
    "## Model Optimization"
   ]
  },
  {
   "cell_type": "code",
   "execution_count": null,
   "metadata": {
    "colab": {
     "base_uri": "https://localhost:8080/",
     "height": 86
    },
    "id": "lghVkcucwU3V",
    "outputId": "595dc377-6ddd-4b83-f595-b786fac86029"
   },
   "outputs": [
    {
     "data": {
      "application/vnd.google.colaboratory.intrinsic+json": {
       "type": "string"
      },
      "text/plain": [
       "'def build_model_LSTM1(hp):\\n    #build the lstm model\\n    model = Sequential()\\n    model.add(LSTM(hp.Int(\"input_units1\", min_value=40,max_value=120, step=10),kernel_regularizer=l2(0.01), recurrent_regularizer=l2(0.01), bias_regularizer=l2(0.01), return_sequences=True, input_shape = (x_train.shape[1],x_train.shape[2])))\\n    model.add(LSTM(hp.Int(\"input_units2\", min_value=40,max_value=120, step=10),kernel_regularizer=l2(0.01), recurrent_regularizer=l2(0.01), bias_regularizer=l2(0.01), return_sequences=False, dropout=0.2, recurrent_dropout=0.2))\\n    model.add(Dense(1))\\n    model.add(Activation(\\'linear\\'))\\n    #compile the model\\n    model.compile(optimizer=\\'adam\\', loss=\\'mean_squared_error\\')\\n    return model'"
      ]
     },
     "execution_count": 18,
     "metadata": {
      "tags": []
     },
     "output_type": "execute_result"
    }
   ],
   "source": [
    "'''def build_model_LSTM1(hp):\n",
    "    #build the lstm model\n",
    "    model = Sequential()\n",
    "    model.add(LSTM(hp.Int(\"input_units1\", min_value=40,max_value=120, step=10),kernel_regularizer=l2(0.01), recurrent_regularizer=l2(0.01), bias_regularizer=l2(0.01), return_sequences=True, input_shape = (x_train.shape[1],x_train.shape[2])))\n",
    "    model.add(LSTM(hp.Int(\"input_units2\", min_value=40,max_value=120, step=10),kernel_regularizer=l2(0.01), recurrent_regularizer=l2(0.01), bias_regularizer=l2(0.01), return_sequences=False, dropout=0.2, recurrent_dropout=0.2))\n",
    "    model.add(Dense(1))\n",
    "    model.add(Activation('linear'))\n",
    "    #compile the model\n",
    "    model.compile(optimizer='adam', loss='mean_squared_error')\n",
    "    return model'''"
   ]
  },
  {
   "cell_type": "code",
   "execution_count": null,
   "metadata": {
    "colab": {
     "base_uri": "https://localhost:8080/",
     "height": 35
    },
    "id": "ahqGpG9VxQ8g",
    "outputId": "e14f2bb4-4ad3-44dc-f3bc-aedbde1f18b3"
   },
   "outputs": [
    {
     "data": {
      "application/vnd.google.colaboratory.intrinsic+json": {
       "type": "string"
      },
      "text/plain": [
       "'tuner_LSTM = BayesianOptimization(\\n    build_model_LSTM1,\\n    objective = \"val_loss\",\\n    max_trials = 10,\\n    executions_per_trial = 1,\\n    directory=\\'my_dir\\',\\n    project_name=\\'helloworld\\',\\n    overwrite=True\\n )'"
      ]
     },
     "execution_count": 19,
     "metadata": {
      "tags": []
     },
     "output_type": "execute_result"
    }
   ],
   "source": [
    "'''tuner_LSTM = BayesianOptimization(\n",
    "    build_model_LSTM1,\n",
    "    objective = \"val_loss\",\n",
    "    max_trials = 10,\n",
    "    executions_per_trial = 1,\n",
    "    directory='my_dir',\n",
    "    project_name='helloworld',\n",
    "    overwrite=True\n",
    " )'''"
   ]
  },
  {
   "cell_type": "code",
   "execution_count": null,
   "metadata": {
    "colab": {
     "base_uri": "https://localhost:8080/",
     "height": 52
    },
    "id": "rJtSTWzCxatV",
    "outputId": "1977d60a-ad49-41e4-d7fa-0333757f0ff6"
   },
   "outputs": [
    {
     "data": {
      "application/vnd.google.colaboratory.intrinsic+json": {
       "type": "string"
      },
      "text/plain": [
       "'tuner_LSTM.search(x = x_train,\\n             y = y_train,\\n             epochs=100,\\n             batch_size=32,\\n             validation_data=(x_val,y_val))\\n\\nprint(tuner_LSTM.get_best_hyperparameters()[0].values)\\n\\nprint(tuner_LSTM.results_summary())'"
      ]
     },
     "execution_count": 20,
     "metadata": {
      "tags": []
     },
     "output_type": "execute_result"
    }
   ],
   "source": [
    "'''tuner_LSTM.search(x = x_train,\n",
    "             y = y_train,\n",
    "             epochs=100,\n",
    "             batch_size=32,\n",
    "             validation_data=(x_val,y_val))\n",
    "\n",
    "print(tuner_LSTM.get_best_hyperparameters()[0].values)\n",
    "\n",
    "print(tuner_LSTM.results_summary())'''"
   ]
  },
  {
   "cell_type": "code",
   "execution_count": null,
   "metadata": {
    "colab": {
     "base_uri": "https://localhost:8080/",
     "height": 69
    },
    "id": "95LYjcAvL8kG",
    "outputId": "f5924c59-e055-4d1b-e8b3-afc8ee3ebfcd"
   },
   "outputs": [
    {
     "data": {
      "application/vnd.google.colaboratory.intrinsic+json": {
       "type": "string"
      },
      "text/plain": [
       "'def build_model(hp):\\n #   model = Sequential()\\n#\\n#    model.add(Bidirectional(LSTM((210), return_sequences=True, input_shape=(x_train.shape[1],x_train.shape[2]))))\\n#    model.add(Dropout(0.2))\\n\\n#    model.add(Bidirectional(LSTM(hp.Int(\"input_units2\", min_value=210,max_value=220, step=5))))\\n#    model.add(Dropout(0.2))\\n\\n#    model.add(Dense(1))\\n#    model.add(Activation(\\'linear\\'))\\n\\n#    model.compile(optimizer=\\'adam\\', loss=\\'mean_squared_error\\')\\n\\n#    return model'"
      ]
     },
     "execution_count": 21,
     "metadata": {
      "tags": []
     },
     "output_type": "execute_result"
    }
   ],
   "source": [
    "'''def build_model(hp):\n",
    " #   model = Sequential()\n",
    "#\n",
    "#    model.add(Bidirectional(LSTM((210), return_sequences=True, input_shape=(x_train.shape[1],x_train.shape[2]))))\n",
    "#    model.add(Dropout(0.2))\n",
    "\n",
    "#    model.add(Bidirectional(LSTM(hp.Int(\"input_units2\", min_value=210,max_value=220, step=5))))\n",
    "#    model.add(Dropout(0.2))\n",
    "\n",
    "#    model.add(Dense(1))\n",
    "#    model.add(Activation('linear'))\n",
    "\n",
    "#    model.compile(optimizer='adam', loss='mean_squared_error')\n",
    "\n",
    "#    return model'''"
   ]
  },
  {
   "cell_type": "code",
   "execution_count": null,
   "metadata": {
    "colab": {
     "base_uri": "https://localhost:8080/",
     "height": 35
    },
    "id": "O9fMIi4sMC1k",
    "outputId": "0de6ed3f-2991-45a4-a4a6-30a9404c8ab1"
   },
   "outputs": [
    {
     "data": {
      "application/vnd.google.colaboratory.intrinsic+json": {
       "type": "string"
      },
      "text/plain": [
       "'tuner = BayesianOptimization(\\n    build_model,\\n    objective = \"val_loss\",\\n    max_trials = 5,\\n    executions_per_trial = 1,\\n    directory=\\'my_dir\\',\\n    project_name=\\'helloworld\\',\\n    overwrite=True\\n )'"
      ]
     },
     "execution_count": 22,
     "metadata": {
      "tags": []
     },
     "output_type": "execute_result"
    }
   ],
   "source": [
    "'''tuner = BayesianOptimization(\n",
    "    build_model,\n",
    "    objective = \"val_loss\",\n",
    "    max_trials = 5,\n",
    "    executions_per_trial = 1,\n",
    "    directory='my_dir',\n",
    "    project_name='helloworld',\n",
    "    overwrite=True\n",
    " )'''"
   ]
  },
  {
   "cell_type": "code",
   "execution_count": null,
   "metadata": {
    "colab": {
     "base_uri": "https://localhost:8080/",
     "height": 52
    },
    "id": "vskds5RGMGgD",
    "outputId": "757db665-5071-4860-e612-11b85788138b"
   },
   "outputs": [
    {
     "data": {
      "application/vnd.google.colaboratory.intrinsic+json": {
       "type": "string"
      },
      "text/plain": [
       "'tuner.search(x = x_train,\\n             y = y_train,\\n             epochs=100,\\n             batch_size=32,\\n             validation_data=(x_val,y_val))\\n\\nprint(tuner.get_best_hyperparameters()[0].values)\\n\\nprint(tuner.results_summary())'"
      ]
     },
     "execution_count": 23,
     "metadata": {
      "tags": []
     },
     "output_type": "execute_result"
    }
   ],
   "source": [
    "'''tuner.search(x = x_train,\n",
    "             y = y_train,\n",
    "             epochs=100,\n",
    "             batch_size=32,\n",
    "             validation_data=(x_val,y_val))\n",
    "\n",
    "print(tuner.get_best_hyperparameters()[0].values)\n",
    "\n",
    "print(tuner.results_summary())'''"
   ]
  },
  {
   "cell_type": "code",
   "execution_count": null,
   "metadata": {
    "colab": {
     "base_uri": "https://localhost:8080/",
     "height": 69
    },
    "id": "Pt42vDgvjO6w",
    "outputId": "ba4d62db-4fe7-4fc7-cad6-f3184213ab2b"
   },
   "outputs": [
    {
     "data": {
      "application/vnd.google.colaboratory.intrinsic+json": {
       "type": "string"
      },
      "text/plain": [
       "'def build_model2(hp):\\n\\n    model = Sequential()\\n    # Input layer\\n    model.add(GRU(hp.Int(\"input_units1\", min_value=100,max_value=125, step=5), return_sequences = True, input_shape=(x_train.shape[1],x_train.shape[2])))\\n    model.add(Dropout(0.4))\\n\\n    # Hidden layer\\n    model.add(GRU(hp.Int(\"input_units2\", min_value=100,max_value=125, step=5))) \\n    model.add(Dropout(0.4))\\n\\n    model.add(Dense(1))\\n    model.add(Activation(\\'linear\\'))\\n\\n    model.compile(optimizer=\\'adam\\', loss=\\'mean_squared_error\\')\\n\\n    return model'"
      ]
     },
     "execution_count": 24,
     "metadata": {
      "tags": []
     },
     "output_type": "execute_result"
    }
   ],
   "source": [
    "'''def build_model2(hp):\n",
    "\n",
    "    model = Sequential()\n",
    "    # Input layer\n",
    "    model.add(GRU(hp.Int(\"input_units1\", min_value=100,max_value=125, step=5), return_sequences = True, input_shape=(x_train.shape[1],x_train.shape[2])))\n",
    "    model.add(Dropout(0.4))\n",
    "\n",
    "    # Hidden layer\n",
    "    model.add(GRU(hp.Int(\"input_units2\", min_value=100,max_value=125, step=5))) \n",
    "    model.add(Dropout(0.4))\n",
    "\n",
    "    model.add(Dense(1))\n",
    "    model.add(Activation('linear'))\n",
    "\n",
    "    model.compile(optimizer='adam', loss='mean_squared_error')\n",
    "\n",
    "    return model'''"
   ]
  },
  {
   "cell_type": "code",
   "execution_count": null,
   "metadata": {
    "colab": {
     "base_uri": "https://localhost:8080/",
     "height": 35
    },
    "id": "wv9o_WxGjYAQ",
    "outputId": "436ce904-7851-4dd0-a6f1-bec1198d3fff"
   },
   "outputs": [
    {
     "data": {
      "application/vnd.google.colaboratory.intrinsic+json": {
       "type": "string"
      },
      "text/plain": [
       "'tuner2 = BayesianOptimization(\\n    build_model2,\\n    objective = \"val_loss\",\\n    max_trials = 5,\\n    executions_per_trial = 2,\\n    overwrite=True\\n )'"
      ]
     },
     "execution_count": 25,
     "metadata": {
      "tags": []
     },
     "output_type": "execute_result"
    }
   ],
   "source": [
    "'''tuner2 = BayesianOptimization(\n",
    "    build_model2,\n",
    "    objective = \"val_loss\",\n",
    "    max_trials = 5,\n",
    "    executions_per_trial = 2,\n",
    "    overwrite=True\n",
    " )'''"
   ]
  },
  {
   "cell_type": "code",
   "execution_count": null,
   "metadata": {
    "colab": {
     "base_uri": "https://localhost:8080/",
     "height": 52
    },
    "id": "XX61EWgxjbKJ",
    "outputId": "b1f368a4-3a32-4ca2-b6b4-e72fd0a5c048"
   },
   "outputs": [
    {
     "data": {
      "application/vnd.google.colaboratory.intrinsic+json": {
       "type": "string"
      },
      "text/plain": [
       "'tuner2.search(x = x_train,\\n             y = y_train,\\n             epochs=100,\\n             batch_size=32,\\n             validation_data=(x_val,y_val))\\n\\nprint(tuner2.get_best_hyperparameters()[0].values)\\n\\nprint(tuner2.results_summary())'"
      ]
     },
     "execution_count": 26,
     "metadata": {
      "tags": []
     },
     "output_type": "execute_result"
    }
   ],
   "source": [
    "'''tuner2.search(x = x_train,\n",
    "             y = y_train,\n",
    "             epochs=100,\n",
    "             batch_size=32,\n",
    "             validation_data=(x_val,y_val))\n",
    "\n",
    "print(tuner2.get_best_hyperparameters()[0].values)\n",
    "\n",
    "print(tuner2.results_summary())'''"
   ]
  },
  {
   "cell_type": "markdown",
   "metadata": {
    "id": "FFMuhur_GIX-"
   },
   "source": [
    "## Model Evaluation"
   ]
  },
  {
   "cell_type": "code",
   "execution_count": null,
   "metadata": {
    "colab": {
     "base_uri": "https://localhost:8080/",
     "height": 678
    },
    "id": "Zqctp0IqGIX-",
    "outputId": "184b82f9-f647-4ffc-fc85-2b6995eb4902",
    "scrolled": false
   },
   "outputs": [
    {
     "data": {
      "image/png": "[encoded data removed]",
      "text/plain": [
       "<Figure size 1152x720 with 4 Axes>"
      ]
     },
     "metadata": {
      "needs_background": "light",
      "tags": []
     },
     "output_type": "display_data"
    }
   ],
   "source": [
    "def plot_loss_histories(histories,names):\n",
    "    rows = math.ceil(len(histories)/2)\n",
    "    fig, axes = plt.subplots(rows,2, constrained_layout=False, figsize=(16,5*rows))\n",
    "    fig.suptitle(\"Training loss vs Validation Loss\\n\", fontsize=25)\n",
    "    # Draw nested boxplots\n",
    "    for history, name, ax in zip(histories, names , axes.flatten()):\n",
    "        ax.plot(history.history['loss'])\n",
    "        ax.plot(history.history['val_loss'])\n",
    "        ax.set_title(\"{} model\".format(name), fontsize=13)\n",
    "        ax.set_xlabel('epoch')\n",
    "        ax.set_ylabel('loss')\n",
    "        ax.legend(['train', 'validation'], loc='upper right')\n",
    "    fig.subplots_adjust(hspace=0.3)\n",
    "    plt.show()\n",
    "    \n",
    "histories = [history1,history2,history3,history4]\n",
    "names = ['LSTM1','LSTM2','GRU','BiLSTM']\n",
    "plot_loss_histories(histories,names)"
   ]
  },
  {
   "cell_type": "markdown",
   "metadata": {
    "id": "EAQAzYR6GIX-"
   },
   "source": [
    "## Prediction\n",
    "### 1. Valid Set"
   ]
  },
  {
   "cell_type": "code",
   "execution_count": null,
   "metadata": {
    "colab": {
     "base_uri": "https://localhost:8080/"
    },
    "id": "bt48xIILGIX_",
    "outputId": "43d30d81-02a4-4096-e6f9-1234ae482248"
   },
   "outputs": [
    {
     "name": "stdout",
     "output_type": "stream",
     "text": [
      "LSTM1\n",
      "RMSE: 5.328165902882031\n",
      "Accuracy: 0.46246973365617433 \n",
      "\n",
      "LSTM2\n",
      "RMSE: 1.332416966643083\n",
      "Accuracy: 0.48184019370460046 \n",
      "\n",
      "GRU\n",
      "RMSE: 1.0052986090445897\n",
      "Accuracy: 0.45036319612590797 \n",
      "\n",
      "BiLSTM\n",
      "RMSE: 6.044307677340616\n",
      "Accuracy: 0.48184019370460046 \n",
      "\n"
     ]
    }
   ],
   "source": [
    "def pred_val(model, df, input):\n",
    "    target_scaler = MinMaxScaler()\n",
    "    target_scaler.fit(train_df[['Close']])\n",
    "    #Get the models predicted price values\n",
    "    predictions = model.predict(input)\n",
    "    predictions = target_scaler.inverse_transform(predictions)\n",
    "    valid=df[15:][['Close']].copy()\n",
    "    valid['Predictions'] = predictions\n",
    "    #get the root mean squared error (RMSE)\n",
    "    rmse = np.sqrt(np.mean(valid['Predictions'] - valid['Close']) ** 2)\n",
    "    print(\"RMSE:\",rmse)\n",
    "    print(\"Accuracy:\",accuracy_forecast(valid['Close'], valid['Predictions']),'\\n')\n",
    "    return predictions, rmse\n",
    "\n",
    "scores = {}\n",
    "print('LSTM1')\n",
    "LSTM1_pred_val, rmse = pred_val(LSTM1,val_df,x_val)\n",
    "scores['LSTM1'] = rmse\n",
    "print('LSTM2')\n",
    "LSTM2_pred_val, rmse = pred_val(LSTM2,val_df,x_val)\n",
    "scores['LSTM2'] = rmse\n",
    "print('GRU')\n",
    "GRU_pred_val, rmse = pred_val(GRU_model,val_df,x_val)\n",
    "scores['GRU'] = rmse\n",
    "print('BiLSTM')\n",
    "bilstm_pred_val, rmse = pred_val(biLSTM,val_df,x_val)\n",
    "scores['BiLSTM'] = rmse"
   ]
  },
  {
   "cell_type": "code",
   "execution_count": null,
   "metadata": {
    "colab": {
     "base_uri": "https://localhost:8080/",
     "height": 415
    },
    "id": "5qDVwTcsGIX_",
    "outputId": "06cf4159-d927-403f-c512-af8f833a2f98"
   },
   "outputs": [
    {
     "data": {
      "image/png": "[encoded data removed]",
      "text/plain": [
       "<Figure size 576x432 with 1 Axes>"
      ]
     },
     "metadata": {
      "needs_background": "light",
      "tags": []
     },
     "output_type": "display_data"
    }
   ],
   "source": [
    "plt.figure(figsize=(8, 6))\n",
    "sns.barplot(y = pd.Series(scores).values, x = pd.Series(scores).index)\n",
    "plt.xticks(rotation=0)\n",
    "plt.title('RMSE Score', fontsize=16)\n",
    "plt.xticks(rotation = 45)\n",
    "plt.show()"
   ]
  },
  {
   "cell_type": "code",
   "execution_count": null,
   "metadata": {
    "colab": {
     "base_uri": "https://localhost:8080/",
     "height": 664
    },
    "id": "yCqPsKIZGIX_",
    "outputId": "6581a9f2-dd28-43a0-d498-b7f5e5e29dae"
   },
   "outputs": [
    {
     "data": {
      "image/png": "[encoded data removed]",
      "text/plain": [
       "<Figure size 1152x720 with 4 Axes>"
      ]
     },
     "metadata": {
      "needs_background": "light",
      "tags": []
     },
     "output_type": "display_data"
    }
   ],
   "source": [
    "def plot_predictions(predictions,names):\n",
    "    rows = math.ceil(len(predictions)/2)\n",
    "    fig, axes = plt.subplots(rows,2, constrained_layout=False, figsize=(16,5*rows))\n",
    "    fig.suptitle(\"Validation data vs Prediction\\n\", fontsize=25)\n",
    "    # Draw nested boxplots\n",
    "    for prediction, name, ax in zip(predictions, names , axes.flatten()):\n",
    "        valid = val_df[['Close']][15:].copy()\n",
    "        valid['Predictions'] = prediction\n",
    "        ax.plot(valid[['Close', 'Predictions']])\n",
    "        ax.set_title(\"{} model\".format(name), fontsize=13)\n",
    "        ax.set_ylabel('Close Price')\n",
    "        ax.legend(['Actual', 'Predicted'], loc='lower right')\n",
    "    fig.subplots_adjust(hspace=0.3)\n",
    "    plt.show()\n",
    "\n",
    "predictions = [LSTM1_pred_val,LSTM2_pred_val,GRU_pred_val,bilstm_pred_val]\n",
    "names = ['LSTM1','LSTM2','GRU','BiLSTM']\n",
    "plot_predictions(predictions,names)\n"
   ]
  },
  {
   "cell_type": "markdown",
   "metadata": {
    "id": "JjyIOmaKGIX_"
   },
   "source": [
    "### 2.Test Set"
   ]
  },
  {
   "cell_type": "code",
   "execution_count": null,
   "metadata": {
    "id": "3GcvO4oTlbzQ"
   },
   "outputs": [],
   "source": [
    "n = df.shape[0]\n",
    "train_df = df[0:int(n*.85)]\n",
    "test_df = df[int(n*0.85):]\n",
    "\n",
    "def scale_func(df):\n",
    "    scaler = MinMaxScaler()\n",
    "    scaled_data = scaler.fit_transform(df)\n",
    "    scaled_data = pd.DataFrame(scaled_data,index=df.index, columns=df.columns)\n",
    "    return scaled_data, scaler\n",
    "\n",
    "scaled_train_df, scaler  = scale_func(train_df) \n",
    "scaled_test_df = pd.DataFrame(scaler.transform(test_df),index=test_df.index,columns=test_df.columns)"
   ]
  },
  {
   "cell_type": "code",
   "execution_count": null,
   "metadata": {
    "colab": {
     "base_uri": "https://localhost:8080/"
    },
    "id": "vimskZ5OnFqp",
    "outputId": "28b259b0-b082-472a-f974-63d826d1826f"
   },
   "outputs": [
    {
     "name": "stdout",
     "output_type": "stream",
     "text": [
      "Training set: (2417, 15, 1)\n",
      "Test set: (415, 15, 1)\n"
     ]
    }
   ],
   "source": [
    "x_train, y_train = generate_input(scaled_train_df,15, \"Close\")\n",
    "x_test, y_test = generate_input(scaled_test_df,15, \"Close\")\n",
    "print(\"Training set:\",x_train.shape)\n",
    "print(\"Test set:\",x_test.shape)"
   ]
  },
  {
   "cell_type": "code",
   "execution_count": null,
   "metadata": {
    "colab": {
     "base_uri": "https://localhost:8080/"
    },
    "id": "HNqK7_BEnS8P",
    "outputId": "956e9d98-3ee1-4bdb-eee5-3345e23567da"
   },
   "outputs": [
    {
     "name": "stdout",
     "output_type": "stream",
     "text": [
      "WARNING:tensorflow:Layer lstm_81 will not use cuDNN kernel since it doesn't meet the cuDNN kernel criteria. It will use generic GPU kernel as fallback when running on GPU\n"
     ]
    }
   ],
   "source": [
    "LSTM1 = model_base_build(input_shape= (x_train.shape[1],x_train.shape[2]))\n",
    "LSTM2 = model_class_build(input_shape= (x_train.shape[1],x_train.shape[2]))\n",
    "GRU_model = model_GRU_build(input_shape= (x_train.shape[1],x_train.shape[2]))\n",
    "biLSTM = biLSTM_model(input_shape= (x_train.shape[1],x_train.shape[2]))"
   ]
  },
  {
   "cell_type": "code",
   "execution_count": null,
   "metadata": {
    "colab": {
     "base_uri": "https://localhost:8080/"
    },
    "id": "kq8xgxmh_1E6",
    "outputId": "c88044f1-d5a2-4837-e0e6-f06ed4b602fc"
   },
   "outputs": [
    {
     "name": "stdout",
     "output_type": "stream",
     "text": [
      "Epoch 1/80\n",
      "76/76 [==============================] - 13s 112ms/step - loss: 1.5919 - val_loss: 0.9388\n",
      "Epoch 2/80\n",
      "76/76 [==============================] - 8s 105ms/step - loss: 0.8739 - val_loss: 0.7372\n",
      "Epoch 3/80\n",
      "76/76 [==============================] - 8s 104ms/step - loss: 0.7040 - val_loss: 0.6171\n",
      "Epoch 4/80\n",
      "76/76 [==============================] - 8s 104ms/step - loss: 0.5899 - val_loss: 0.5162\n",
      "Epoch 5/80\n",
      "76/76 [==============================] - 8s 105ms/step - loss: 0.4936 - val_loss: 0.4290\n",
      "Epoch 6/80\n",
      "76/76 [==============================] - 8s 103ms/step - loss: 0.4097 - val_loss: 0.3539\n",
      "Epoch 7/80\n",
      "76/76 [==============================] - 8s 104ms/step - loss: 0.3371 - val_loss: 0.2899\n",
      "Epoch 8/80\n",
      "76/76 [==============================] - 8s 104ms/step - loss: 0.2750 - val_loss: 0.2350\n",
      "Epoch 9/80\n",
      "76/76 [==============================] - 8s 102ms/step - loss: 0.2230 - val_loss: 0.1885\n",
      "Epoch 10/80\n",
      "76/76 [==============================] - 8s 101ms/step - loss: 0.1781 - val_loss: 0.1497\n",
      "Epoch 11/80\n",
      "76/76 [==============================] - 8s 103ms/step - loss: 0.1414 - val_loss: 0.1177\n",
      "Epoch 12/80\n",
      "76/76 [==============================] - 8s 104ms/step - loss: 0.1107 - val_loss: 0.0919\n",
      "Epoch 13/80\n",
      "76/76 [==============================] - 8s 104ms/step - loss: 0.0859 - val_loss: 0.0707\n",
      "Epoch 14/80\n",
      "76/76 [==============================] - 8s 105ms/step - loss: 0.0659 - val_loss: 0.0533\n",
      "Epoch 15/80\n",
      "76/76 [==============================] - 8s 104ms/step - loss: 0.0497 - val_loss: 0.0408\n",
      "Epoch 16/80\n",
      "76/76 [==============================] - 8s 107ms/step - loss: 0.0374 - val_loss: 0.0298\n",
      "Epoch 17/80\n",
      "76/76 [==============================] - 8s 105ms/step - loss: 0.0275 - val_loss: 0.0217\n",
      "Epoch 18/80\n",
      "76/76 [==============================] - 8s 104ms/step - loss: 0.0200 - val_loss: 0.0159\n",
      "Epoch 19/80\n",
      "76/76 [==============================] - 8s 104ms/step - loss: 0.0151 - val_loss: 0.0112\n",
      "Epoch 20/80\n",
      "76/76 [==============================] - 8s 105ms/step - loss: 0.0103 - val_loss: 0.0081\n",
      "Epoch 21/80\n",
      "76/76 [==============================] - 8s 105ms/step - loss: 0.0078 - val_loss: 0.0056\n",
      "Epoch 22/80\n",
      "76/76 [==============================] - 8s 106ms/step - loss: 0.0053 - val_loss: 0.0040\n",
      "Epoch 23/80\n",
      "76/76 [==============================] - 8s 106ms/step - loss: 0.0039 - val_loss: 0.0030\n",
      "Epoch 24/80\n",
      "76/76 [==============================] - 8s 106ms/step - loss: 0.0027 - val_loss: 0.0020\n",
      "Epoch 25/80\n",
      "76/76 [==============================] - 8s 103ms/step - loss: 0.0019 - val_loss: 0.0018\n",
      "Epoch 26/80\n",
      "76/76 [==============================] - 8s 107ms/step - loss: 0.0015 - val_loss: 0.0014\n",
      "Epoch 27/80\n",
      "76/76 [==============================] - 8s 108ms/step - loss: 0.0012 - val_loss: 0.0015\n",
      "Epoch 28/80\n",
      "76/76 [==============================] - 8s 106ms/step - loss: 0.0013 - val_loss: 0.0011\n",
      "Epoch 29/80\n",
      "76/76 [==============================] - 8s 107ms/step - loss: 9.9286e-04 - val_loss: 8.1789e-04\n",
      "Epoch 30/80\n",
      "76/76 [==============================] - 8s 105ms/step - loss: 8.7610e-04 - val_loss: 7.2375e-04\n",
      "Epoch 31/80\n",
      "76/76 [==============================] - 8s 107ms/step - loss: 7.7120e-04 - val_loss: 9.0091e-04\n",
      "Epoch 32/80\n",
      "76/76 [==============================] - 8s 104ms/step - loss: 7.0220e-04 - val_loss: 9.0602e-04\n",
      "Epoch 33/80\n",
      "76/76 [==============================] - 8s 106ms/step - loss: 8.4481e-04 - val_loss: 9.8466e-04\n",
      "Epoch 34/80\n",
      "76/76 [==============================] - 8s 103ms/step - loss: 7.1755e-04 - val_loss: 9.3207e-04\n",
      "Epoch 35/80\n",
      "76/76 [==============================] - 8s 106ms/step - loss: 7.6871e-04 - val_loss: 7.3318e-04\n",
      "Epoch 36/80\n",
      "76/76 [==============================] - 8s 105ms/step - loss: 7.9260e-04 - val_loss: 0.0012\n",
      "Epoch 37/80\n",
      "76/76 [==============================] - 8s 107ms/step - loss: 8.9344e-04 - val_loss: 7.6094e-04\n",
      "Epoch 38/80\n",
      "76/76 [==============================] - 8s 107ms/step - loss: 7.4380e-04 - val_loss: 0.0014\n",
      "Epoch 39/80\n",
      "76/76 [==============================] - 8s 106ms/step - loss: 8.3973e-04 - val_loss: 0.0010\n",
      "Epoch 40/80\n",
      "76/76 [==============================] - 8s 111ms/step - loss: 7.4037e-04 - val_loss: 8.1718e-04\n",
      "Epoch 41/80\n",
      "76/76 [==============================] - 8s 107ms/step - loss: 8.0762e-04 - val_loss: 6.8690e-04\n",
      "Epoch 42/80\n",
      "76/76 [==============================] - 8s 107ms/step - loss: 7.2902e-04 - val_loss: 0.0012\n",
      "Epoch 43/80\n",
      "76/76 [==============================] - 8s 106ms/step - loss: 7.5200e-04 - val_loss: 0.0011\n",
      "Epoch 44/80\n",
      "76/76 [==============================] - 8s 106ms/step - loss: 7.7493e-04 - val_loss: 6.7750e-04\n",
      "Epoch 45/80\n",
      "76/76 [==============================] - 8s 105ms/step - loss: 8.9206e-04 - val_loss: 6.1811e-04\n",
      "Epoch 46/80\n",
      "76/76 [==============================] - 8s 104ms/step - loss: 7.2413e-04 - val_loss: 9.0467e-04\n",
      "Epoch 47/80\n",
      "76/76 [==============================] - 8s 110ms/step - loss: 6.6494e-04 - val_loss: 6.9490e-04\n",
      "Epoch 48/80\n",
      "76/76 [==============================] - 8s 109ms/step - loss: 6.5265e-04 - val_loss: 0.0010\n",
      "Epoch 49/80\n",
      "76/76 [==============================] - 8s 105ms/step - loss: 7.9699e-04 - val_loss: 6.7741e-04\n",
      "Epoch 50/80\n",
      "76/76 [==============================] - 8s 105ms/step - loss: 0.0010 - val_loss: 6.4509e-04\n",
      "Epoch 51/80\n",
      "76/76 [==============================] - 8s 110ms/step - loss: 9.8018e-04 - val_loss: 6.2197e-04\n",
      "Epoch 52/80\n",
      "76/76 [==============================] - 8s 108ms/step - loss: 8.0146e-04 - val_loss: 6.3583e-04\n",
      "Epoch 53/80\n",
      "76/76 [==============================] - 8s 105ms/step - loss: 8.7515e-04 - val_loss: 5.8957e-04\n",
      "Epoch 54/80\n",
      "76/76 [==============================] - 8s 105ms/step - loss: 7.9561e-04 - val_loss: 6.8511e-04\n",
      "Epoch 55/80\n",
      "76/76 [==============================] - 8s 106ms/step - loss: 6.8860e-04 - val_loss: 6.3003e-04\n",
      "Epoch 56/80\n",
      "76/76 [==============================] - 8s 107ms/step - loss: 6.8911e-04 - val_loss: 7.5342e-04\n",
      "Epoch 57/80\n",
      "76/76 [==============================] - 8s 106ms/step - loss: 9.2167e-04 - val_loss: 7.1631e-04\n",
      "Epoch 58/80\n",
      "76/76 [==============================] - 8s 107ms/step - loss: 6.3662e-04 - val_loss: 7.4377e-04\n",
      "Epoch 59/80\n",
      "76/76 [==============================] - 8s 106ms/step - loss: 7.7301e-04 - val_loss: 0.0010\n",
      "Epoch 60/80\n",
      "76/76 [==============================] - 8s 107ms/step - loss: 5.8271e-04 - val_loss: 5.3075e-04\n",
      "Epoch 61/80\n",
      "76/76 [==============================] - 8s 106ms/step - loss: 7.3633e-04 - val_loss: 6.1220e-04\n",
      "Epoch 62/80\n",
      "76/76 [==============================] - 8s 107ms/step - loss: 9.5394e-04 - val_loss: 6.3456e-04\n",
      "Epoch 63/80\n",
      "76/76 [==============================] - 8s 106ms/step - loss: 6.1857e-04 - val_loss: 7.0937e-04\n",
      "Epoch 64/80\n",
      "76/76 [==============================] - 8s 107ms/step - loss: 5.9304e-04 - val_loss: 5.9676e-04\n",
      "Epoch 65/80\n",
      "76/76 [==============================] - 8s 106ms/step - loss: 6.6322e-04 - val_loss: 5.3103e-04\n",
      "Epoch 66/80\n",
      "76/76 [==============================] - 8s 107ms/step - loss: 8.2120e-04 - val_loss: 9.5172e-04\n",
      "Epoch 67/80\n",
      "76/76 [==============================] - 8s 109ms/step - loss: 7.7401e-04 - val_loss: 5.6598e-04\n",
      "Epoch 68/80\n",
      "76/76 [==============================] - 8s 107ms/step - loss: 6.9048e-04 - val_loss: 5.6027e-04\n",
      "Epoch 69/80\n",
      "76/76 [==============================] - 8s 107ms/step - loss: 7.4677e-04 - val_loss: 7.2597e-04\n",
      "Epoch 70/80\n",
      "76/76 [==============================] - 8s 107ms/step - loss: 7.5078e-04 - val_loss: 5.9157e-04\n",
      "Epoch 71/80\n",
      "76/76 [==============================] - 8s 109ms/step - loss: 5.9951e-04 - val_loss: 0.0013\n",
      "Epoch 72/80\n",
      "76/76 [==============================] - 8s 107ms/step - loss: 7.7973e-04 - val_loss: 5.1619e-04\n",
      "Epoch 73/80\n",
      "76/76 [==============================] - 8s 107ms/step - loss: 7.1470e-04 - val_loss: 5.0683e-04\n",
      "Epoch 74/80\n",
      "76/76 [==============================] - 8s 107ms/step - loss: 7.1710e-04 - val_loss: 5.1194e-04\n",
      "Epoch 75/80\n",
      "76/76 [==============================] - 8s 110ms/step - loss: 5.7193e-04 - val_loss: 6.5712e-04\n",
      "Epoch 76/80\n",
      "76/76 [==============================] - 8s 106ms/step - loss: 6.3321e-04 - val_loss: 7.3732e-04\n",
      "Epoch 77/80\n",
      "76/76 [==============================] - 8s 111ms/step - loss: 6.1573e-04 - val_loss: 5.1643e-04\n",
      "Epoch 78/80\n",
      "76/76 [==============================] - 8s 109ms/step - loss: 5.8798e-04 - val_loss: 5.1514e-04\n",
      "Epoch 79/80\n",
      "76/76 [==============================] - 8s 108ms/step - loss: 6.4641e-04 - val_loss: 8.3567e-04\n",
      "Epoch 80/80\n",
      "76/76 [==============================] - 8s 110ms/step - loss: 7.3967e-04 - val_loss: 6.1254e-04\n",
      "Epoch 1/80\n",
      "76/76 [==============================] - 10s 53ms/step - loss: 0.0118 - val_loss: 0.0017\n",
      "Epoch 2/80\n",
      "76/76 [==============================] - 2s 25ms/step - loss: 0.0024 - val_loss: 0.0016\n",
      "Epoch 3/80\n",
      "76/76 [==============================] - 2s 24ms/step - loss: 0.0027 - val_loss: 0.0014\n",
      "Epoch 4/80\n",
      "76/76 [==============================] - 2s 24ms/step - loss: 0.0015 - val_loss: 0.0024\n",
      "Epoch 5/80\n",
      "76/76 [==============================] - 2s 24ms/step - loss: 0.0020 - val_loss: 0.0012\n",
      "Epoch 6/80\n",
      "76/76 [==============================] - 2s 25ms/step - loss: 0.0018 - val_loss: 0.0013\n",
      "Epoch 7/80\n",
      "76/76 [==============================] - 2s 24ms/step - loss: 0.0013 - val_loss: 0.0018\n",
      "Epoch 8/80\n",
      "76/76 [==============================] - 2s 25ms/step - loss: 0.0013 - val_loss: 0.0015\n",
      "Epoch 9/80\n",
      "76/76 [==============================] - 2s 25ms/step - loss: 0.0014 - val_loss: 0.0011\n",
      "Epoch 10/80\n",
      "76/76 [==============================] - 2s 25ms/step - loss: 7.8286e-04 - val_loss: 0.0011\n",
      "Epoch 11/80\n",
      "76/76 [==============================] - 2s 25ms/step - loss: 0.0015 - val_loss: 9.7565e-04\n",
      "Epoch 12/80\n",
      "76/76 [==============================] - 2s 25ms/step - loss: 0.0011 - val_loss: 8.9005e-04\n",
      "Epoch 13/80\n",
      "76/76 [==============================] - 2s 24ms/step - loss: 8.4785e-04 - val_loss: 9.5530e-04\n",
      "Epoch 14/80\n",
      "76/76 [==============================] - 2s 24ms/step - loss: 9.1352e-04 - val_loss: 6.5911e-04\n",
      "Epoch 15/80\n",
      "76/76 [==============================] - 2s 24ms/step - loss: 8.1211e-04 - val_loss: 6.5174e-04\n",
      "Epoch 16/80\n",
      "76/76 [==============================] - 2s 24ms/step - loss: 9.5569e-04 - val_loss: 5.8258e-04\n",
      "Epoch 17/80\n",
      "76/76 [==============================] - 2s 24ms/step - loss: 8.6453e-04 - val_loss: 7.7942e-04\n",
      "Epoch 18/80\n",
      "76/76 [==============================] - 2s 24ms/step - loss: 7.4668e-04 - val_loss: 5.4728e-04\n",
      "Epoch 19/80\n",
      "76/76 [==============================] - 2s 24ms/step - loss: 0.0014 - val_loss: 5.5704e-04\n",
      "Epoch 20/80\n",
      "76/76 [==============================] - 2s 24ms/step - loss: 7.4763e-04 - val_loss: 7.7633e-04\n",
      "Epoch 21/80\n",
      "76/76 [==============================] - 2s 24ms/step - loss: 7.9023e-04 - val_loss: 5.3594e-04\n",
      "Epoch 22/80\n",
      "76/76 [==============================] - 2s 24ms/step - loss: 9.6397e-04 - val_loss: 5.6158e-04\n",
      "Epoch 23/80\n",
      "76/76 [==============================] - 2s 24ms/step - loss: 8.1183e-04 - val_loss: 6.7775e-04\n",
      "Epoch 24/80\n",
      "76/76 [==============================] - 2s 24ms/step - loss: 6.6763e-04 - val_loss: 6.7039e-04\n",
      "Epoch 25/80\n",
      "76/76 [==============================] - 2s 25ms/step - loss: 6.2875e-04 - val_loss: 4.5593e-04\n",
      "Epoch 26/80\n",
      "76/76 [==============================] - 2s 25ms/step - loss: 0.0010 - val_loss: 5.5397e-04\n",
      "Epoch 27/80\n",
      "76/76 [==============================] - 2s 25ms/step - loss: 0.0011 - val_loss: 5.9965e-04\n",
      "Epoch 28/80\n",
      "76/76 [==============================] - 2s 25ms/step - loss: 6.2473e-04 - val_loss: 7.0498e-04\n",
      "Epoch 29/80\n",
      "76/76 [==============================] - 2s 24ms/step - loss: 6.1675e-04 - val_loss: 5.2411e-04\n",
      "Epoch 30/80\n",
      "76/76 [==============================] - 2s 25ms/step - loss: 0.0011 - val_loss: 4.3683e-04\n",
      "Epoch 31/80\n",
      "76/76 [==============================] - 2s 25ms/step - loss: 6.8429e-04 - val_loss: 0.0012\n",
      "Epoch 32/80\n",
      "76/76 [==============================] - 2s 25ms/step - loss: 5.9403e-04 - val_loss: 4.4473e-04\n",
      "Epoch 33/80\n",
      "76/76 [==============================] - 2s 24ms/step - loss: 6.3577e-04 - val_loss: 4.0807e-04\n",
      "Epoch 34/80\n",
      "76/76 [==============================] - 2s 24ms/step - loss: 9.3614e-04 - val_loss: 4.7235e-04\n",
      "Epoch 35/80\n",
      "76/76 [==============================] - 2s 25ms/step - loss: 8.3933e-04 - val_loss: 4.0640e-04\n",
      "Epoch 36/80\n",
      "76/76 [==============================] - 2s 25ms/step - loss: 6.8932e-04 - val_loss: 4.0250e-04\n",
      "Epoch 37/80\n",
      "76/76 [==============================] - 2s 25ms/step - loss: 0.0011 - val_loss: 3.9864e-04\n",
      "Epoch 38/80\n",
      "76/76 [==============================] - 2s 24ms/step - loss: 5.2721e-04 - val_loss: 3.7073e-04\n",
      "Epoch 39/80\n",
      "76/76 [==============================] - 2s 25ms/step - loss: 7.3335e-04 - val_loss: 3.9298e-04\n",
      "Epoch 40/80\n",
      "76/76 [==============================] - 2s 25ms/step - loss: 7.4323e-04 - val_loss: 3.7970e-04\n",
      "Epoch 41/80\n",
      "76/76 [==============================] - 2s 25ms/step - loss: 4.8230e-04 - val_loss: 3.5921e-04\n",
      "Epoch 42/80\n",
      "76/76 [==============================] - 2s 24ms/step - loss: 5.7065e-04 - val_loss: 4.2081e-04\n",
      "Epoch 43/80\n",
      "76/76 [==============================] - 2s 25ms/step - loss: 6.7427e-04 - val_loss: 4.1748e-04\n",
      "Epoch 44/80\n",
      "76/76 [==============================] - 2s 25ms/step - loss: 6.1660e-04 - val_loss: 4.0997e-04\n",
      "Epoch 45/80\n",
      "76/76 [==============================] - 2s 25ms/step - loss: 6.5518e-04 - val_loss: 3.4119e-04\n",
      "Epoch 46/80\n",
      "76/76 [==============================] - 2s 25ms/step - loss: 5.8776e-04 - val_loss: 4.7769e-04\n",
      "Epoch 47/80\n",
      "76/76 [==============================] - 2s 25ms/step - loss: 7.7833e-04 - val_loss: 0.0010\n",
      "Epoch 48/80\n",
      "76/76 [==============================] - 2s 25ms/step - loss: 6.7979e-04 - val_loss: 4.3348e-04\n",
      "Epoch 49/80\n",
      "76/76 [==============================] - 2s 25ms/step - loss: 5.6005e-04 - val_loss: 7.4025e-04\n",
      "Epoch 50/80\n",
      "76/76 [==============================] - 2s 24ms/step - loss: 5.5356e-04 - val_loss: 3.1941e-04\n",
      "Epoch 51/80\n",
      "76/76 [==============================] - 2s 24ms/step - loss: 7.0210e-04 - val_loss: 3.0944e-04\n",
      "Epoch 52/80\n",
      "76/76 [==============================] - 2s 24ms/step - loss: 5.4077e-04 - val_loss: 3.1208e-04\n",
      "Epoch 53/80\n",
      "76/76 [==============================] - 2s 24ms/step - loss: 6.3300e-04 - val_loss: 3.2781e-04\n",
      "Epoch 54/80\n",
      "76/76 [==============================] - 2s 24ms/step - loss: 6.7922e-04 - val_loss: 3.9140e-04\n",
      "Epoch 55/80\n",
      "76/76 [==============================] - 2s 24ms/step - loss: 4.7811e-04 - val_loss: 8.6236e-04\n",
      "Epoch 56/80\n",
      "76/76 [==============================] - 2s 24ms/step - loss: 9.2232e-04 - val_loss: 3.9593e-04\n",
      "Epoch 57/80\n",
      "76/76 [==============================] - 2s 24ms/step - loss: 4.0028e-04 - val_loss: 3.4861e-04\n",
      "Epoch 58/80\n",
      "76/76 [==============================] - 2s 25ms/step - loss: 5.9521e-04 - val_loss: 3.5801e-04\n",
      "Epoch 59/80\n",
      "76/76 [==============================] - 2s 24ms/step - loss: 4.6852e-04 - val_loss: 3.8447e-04\n",
      "Epoch 60/80\n",
      "76/76 [==============================] - 2s 25ms/step - loss: 5.3285e-04 - val_loss: 3.9981e-04\n",
      "Epoch 61/80\n",
      "76/76 [==============================] - 2s 25ms/step - loss: 8.5019e-04 - val_loss: 2.9949e-04\n",
      "Epoch 62/80\n",
      "76/76 [==============================] - 2s 25ms/step - loss: 4.9928e-04 - val_loss: 2.9881e-04\n",
      "Epoch 63/80\n",
      "76/76 [==============================] - 2s 25ms/step - loss: 5.5960e-04 - val_loss: 4.0539e-04\n",
      "Epoch 64/80\n",
      "76/76 [==============================] - 2s 24ms/step - loss: 5.3867e-04 - val_loss: 2.7519e-04\n",
      "Epoch 65/80\n",
      "76/76 [==============================] - 2s 25ms/step - loss: 4.4957e-04 - val_loss: 5.2081e-04\n",
      "Epoch 66/80\n",
      "76/76 [==============================] - 2s 25ms/step - loss: 5.6246e-04 - val_loss: 2.8936e-04\n",
      "Epoch 67/80\n",
      "76/76 [==============================] - 2s 24ms/step - loss: 7.2011e-04 - val_loss: 2.6905e-04\n",
      "Epoch 68/80\n",
      "76/76 [==============================] - 2s 25ms/step - loss: 7.5607e-04 - val_loss: 2.9093e-04\n",
      "Epoch 69/80\n",
      "76/76 [==============================] - 2s 25ms/step - loss: 4.5335e-04 - val_loss: 3.5228e-04\n",
      "Epoch 70/80\n",
      "76/76 [==============================] - 2s 24ms/step - loss: 7.0375e-04 - val_loss: 3.5325e-04\n",
      "Epoch 71/80\n",
      "76/76 [==============================] - 2s 25ms/step - loss: 6.5003e-04 - val_loss: 2.7386e-04\n",
      "Epoch 72/80\n",
      "76/76 [==============================] - 2s 24ms/step - loss: 4.9733e-04 - val_loss: 3.9218e-04\n",
      "Epoch 73/80\n",
      "76/76 [==============================] - 2s 24ms/step - loss: 5.3251e-04 - val_loss: 2.7423e-04\n",
      "Epoch 74/80\n",
      "76/76 [==============================] - 2s 25ms/step - loss: 4.6130e-04 - val_loss: 3.2207e-04\n",
      "Epoch 75/80\n",
      "76/76 [==============================] - 2s 25ms/step - loss: 5.4284e-04 - val_loss: 3.2036e-04\n",
      "Epoch 76/80\n",
      "76/76 [==============================] - 2s 25ms/step - loss: 4.7629e-04 - val_loss: 3.3592e-04\n",
      "Epoch 77/80\n",
      "76/76 [==============================] - 2s 25ms/step - loss: 5.2771e-04 - val_loss: 2.9142e-04\n",
      "Epoch 78/80\n",
      "76/76 [==============================] - 2s 24ms/step - loss: 4.2340e-04 - val_loss: 4.7229e-04\n",
      "Epoch 79/80\n",
      "76/76 [==============================] - 2s 25ms/step - loss: 5.7539e-04 - val_loss: 2.6186e-04\n",
      "Epoch 80/80\n",
      "76/76 [==============================] - 2s 25ms/step - loss: 4.9815e-04 - val_loss: 2.7540e-04\n",
      "Epoch 1/80\n",
      "76/76 [==============================] - 5s 24ms/step - loss: 0.7658 - val_loss: 0.1115\n",
      "Epoch 2/80\n",
      "76/76 [==============================] - 1s 14ms/step - loss: 0.0703 - val_loss: 0.0125\n",
      "Epoch 3/80\n",
      "76/76 [==============================] - 1s 14ms/step - loss: 0.0086 - val_loss: 0.0028\n",
      "Epoch 4/80\n",
      "76/76 [==============================] - 1s 14ms/step - loss: 0.0022 - val_loss: 0.0022\n",
      "Epoch 5/80\n",
      "76/76 [==============================] - 1s 14ms/step - loss: 0.0017 - val_loss: 0.0017\n",
      "Epoch 6/80\n",
      "76/76 [==============================] - 1s 14ms/step - loss: 0.0013 - val_loss: 9.1319e-04\n",
      "Epoch 7/80\n",
      "76/76 [==============================] - 1s 13ms/step - loss: 0.0016 - val_loss: 9.7475e-04\n",
      "Epoch 8/80\n",
      "76/76 [==============================] - 1s 13ms/step - loss: 0.0011 - val_loss: 0.0011\n",
      "Epoch 9/80\n",
      "76/76 [==============================] - 1s 14ms/step - loss: 0.0018 - val_loss: 8.9557e-04\n",
      "Epoch 10/80\n",
      "76/76 [==============================] - 1s 13ms/step - loss: 0.0011 - val_loss: 8.5203e-04\n",
      "Epoch 11/80\n",
      "76/76 [==============================] - 1s 14ms/step - loss: 0.0011 - val_loss: 7.8972e-04\n",
      "Epoch 12/80\n",
      "76/76 [==============================] - 1s 14ms/step - loss: 0.0013 - val_loss: 9.3320e-04\n",
      "Epoch 13/80\n",
      "76/76 [==============================] - 1s 14ms/step - loss: 0.0011 - val_loss: 7.5760e-04\n",
      "Epoch 14/80\n",
      "76/76 [==============================] - 1s 14ms/step - loss: 0.0016 - val_loss: 0.0017\n",
      "Epoch 15/80\n",
      "76/76 [==============================] - 1s 14ms/step - loss: 0.0013 - val_loss: 7.4669e-04\n",
      "Epoch 16/80\n",
      "76/76 [==============================] - 1s 14ms/step - loss: 0.0011 - val_loss: 9.8881e-04\n",
      "Epoch 17/80\n",
      "76/76 [==============================] - 1s 14ms/step - loss: 0.0013 - val_loss: 7.4615e-04\n",
      "Epoch 18/80\n",
      "76/76 [==============================] - 1s 14ms/step - loss: 0.0011 - val_loss: 8.1561e-04\n",
      "Epoch 19/80\n",
      "76/76 [==============================] - 1s 14ms/step - loss: 0.0010 - val_loss: 0.0025\n",
      "Epoch 20/80\n",
      "76/76 [==============================] - 1s 14ms/step - loss: 0.0013 - val_loss: 0.0016\n",
      "Epoch 21/80\n",
      "76/76 [==============================] - 1s 14ms/step - loss: 0.0011 - val_loss: 9.6299e-04\n",
      "Epoch 22/80\n",
      "76/76 [==============================] - 1s 14ms/step - loss: 9.2753e-04 - val_loss: 9.1122e-04\n",
      "Epoch 23/80\n",
      "76/76 [==============================] - 1s 14ms/step - loss: 0.0011 - val_loss: 9.4486e-04\n",
      "Epoch 24/80\n",
      "76/76 [==============================] - 1s 14ms/step - loss: 0.0011 - val_loss: 9.0441e-04\n",
      "Epoch 25/80\n",
      "76/76 [==============================] - 1s 14ms/step - loss: 9.6091e-04 - val_loss: 6.4708e-04\n",
      "Epoch 26/80\n",
      "76/76 [==============================] - 1s 14ms/step - loss: 0.0012 - val_loss: 8.8683e-04\n",
      "Epoch 27/80\n",
      "76/76 [==============================] - 1s 14ms/step - loss: 0.0019 - val_loss: 7.0226e-04\n",
      "Epoch 28/80\n",
      "76/76 [==============================] - 1s 14ms/step - loss: 0.0013 - val_loss: 8.5825e-04\n",
      "Epoch 29/80\n",
      "76/76 [==============================] - 1s 14ms/step - loss: 0.0011 - val_loss: 7.7968e-04\n",
      "Epoch 30/80\n",
      "76/76 [==============================] - 1s 14ms/step - loss: 9.6291e-04 - val_loss: 0.0013\n",
      "Epoch 31/80\n",
      "76/76 [==============================] - 1s 14ms/step - loss: 0.0014 - val_loss: 7.8172e-04\n",
      "Epoch 32/80\n",
      "76/76 [==============================] - 1s 14ms/step - loss: 8.5638e-04 - val_loss: 9.5827e-04\n",
      "Epoch 33/80\n",
      "76/76 [==============================] - 1s 14ms/step - loss: 0.0012 - val_loss: 6.4824e-04\n",
      "Epoch 34/80\n",
      "76/76 [==============================] - 1s 14ms/step - loss: 9.4795e-04 - val_loss: 7.1309e-04\n",
      "Epoch 35/80\n",
      "76/76 [==============================] - 1s 14ms/step - loss: 0.0011 - val_loss: 6.3304e-04\n",
      "Epoch 36/80\n",
      "76/76 [==============================] - 1s 14ms/step - loss: 0.0011 - val_loss: 9.2499e-04\n",
      "Epoch 37/80\n",
      "76/76 [==============================] - 1s 14ms/step - loss: 8.9152e-04 - val_loss: 0.0024\n",
      "Epoch 38/80\n",
      "76/76 [==============================] - 1s 14ms/step - loss: 0.0014 - val_loss: 6.5082e-04\n",
      "Epoch 39/80\n",
      "76/76 [==============================] - 1s 13ms/step - loss: 9.4169e-04 - val_loss: 6.0457e-04\n",
      "Epoch 40/80\n",
      "76/76 [==============================] - 1s 14ms/step - loss: 0.0012 - val_loss: 9.4478e-04\n",
      "Epoch 41/80\n",
      "76/76 [==============================] - 1s 14ms/step - loss: 0.0016 - val_loss: 7.5668e-04\n",
      "Epoch 42/80\n",
      "76/76 [==============================] - 1s 14ms/step - loss: 0.0010 - val_loss: 6.5024e-04\n",
      "Epoch 43/80\n",
      "76/76 [==============================] - 1s 14ms/step - loss: 0.0015 - val_loss: 0.0010\n",
      "Epoch 44/80\n",
      "76/76 [==============================] - 1s 14ms/step - loss: 0.0011 - val_loss: 6.9615e-04\n",
      "Epoch 45/80\n",
      "76/76 [==============================] - 1s 14ms/step - loss: 0.0011 - val_loss: 9.0736e-04\n",
      "Epoch 46/80\n",
      "76/76 [==============================] - 1s 14ms/step - loss: 9.9232e-04 - val_loss: 6.3164e-04\n",
      "Epoch 47/80\n",
      "76/76 [==============================] - 1s 14ms/step - loss: 9.7356e-04 - val_loss: 6.1240e-04\n",
      "Epoch 48/80\n",
      "76/76 [==============================] - 1s 14ms/step - loss: 0.0012 - val_loss: 8.4457e-04\n",
      "Epoch 49/80\n",
      "76/76 [==============================] - 1s 14ms/step - loss: 0.0014 - val_loss: 6.5472e-04\n",
      "Epoch 50/80\n",
      "76/76 [==============================] - 1s 14ms/step - loss: 9.9178e-04 - val_loss: 6.7443e-04\n",
      "Epoch 51/80\n",
      "76/76 [==============================] - 1s 14ms/step - loss: 0.0012 - val_loss: 8.3931e-04\n",
      "Epoch 52/80\n",
      "76/76 [==============================] - 1s 13ms/step - loss: 0.0012 - val_loss: 6.3738e-04\n",
      "Epoch 53/80\n",
      "76/76 [==============================] - 1s 14ms/step - loss: 0.0011 - val_loss: 6.0612e-04\n",
      "Epoch 54/80\n",
      "76/76 [==============================] - 1s 14ms/step - loss: 9.9522e-04 - val_loss: 7.6581e-04\n",
      "Epoch 55/80\n",
      "76/76 [==============================] - 1s 14ms/step - loss: 0.0013 - val_loss: 0.0011\n",
      "Epoch 56/80\n",
      "76/76 [==============================] - 1s 14ms/step - loss: 0.0012 - val_loss: 0.0010\n",
      "Epoch 57/80\n",
      "76/76 [==============================] - 1s 14ms/step - loss: 0.0012 - val_loss: 0.0011\n",
      "Epoch 58/80\n",
      "76/76 [==============================] - 1s 14ms/step - loss: 0.0011 - val_loss: 6.1256e-04\n",
      "Epoch 59/80\n",
      "76/76 [==============================] - 1s 14ms/step - loss: 0.0010 - val_loss: 0.0017\n",
      "Epoch 60/80\n",
      "76/76 [==============================] - 1s 14ms/step - loss: 0.0012 - val_loss: 7.4155e-04\n",
      "Epoch 61/80\n",
      "76/76 [==============================] - 1s 14ms/step - loss: 8.6219e-04 - val_loss: 6.0861e-04\n",
      "Epoch 62/80\n",
      "76/76 [==============================] - 1s 14ms/step - loss: 0.0012 - val_loss: 6.6600e-04\n",
      "Epoch 63/80\n",
      "76/76 [==============================] - 1s 14ms/step - loss: 9.4351e-04 - val_loss: 6.6738e-04\n",
      "Epoch 64/80\n",
      "76/76 [==============================] - 1s 14ms/step - loss: 0.0012 - val_loss: 8.0773e-04\n",
      "Epoch 65/80\n",
      "76/76 [==============================] - 1s 14ms/step - loss: 9.4997e-04 - val_loss: 0.0011\n",
      "Epoch 66/80\n",
      "76/76 [==============================] - 1s 14ms/step - loss: 9.4869e-04 - val_loss: 6.7476e-04\n",
      "Epoch 67/80\n",
      "76/76 [==============================] - 1s 14ms/step - loss: 0.0013 - val_loss: 8.7092e-04\n",
      "Epoch 68/80\n",
      "76/76 [==============================] - 1s 14ms/step - loss: 0.0012 - val_loss: 6.3477e-04\n",
      "Epoch 69/80\n",
      "76/76 [==============================] - 1s 14ms/step - loss: 0.0010 - val_loss: 9.7973e-04\n",
      "Epoch 70/80\n",
      "76/76 [==============================] - 1s 14ms/step - loss: 0.0011 - val_loss: 7.7367e-04\n",
      "Epoch 71/80\n",
      "76/76 [==============================] - 1s 14ms/step - loss: 0.0010 - val_loss: 7.2498e-04\n",
      "Epoch 72/80\n",
      "76/76 [==============================] - 1s 14ms/step - loss: 8.7525e-04 - val_loss: 6.1825e-04\n",
      "Epoch 73/80\n",
      "76/76 [==============================] - 1s 14ms/step - loss: 9.7141e-04 - val_loss: 8.0194e-04\n",
      "Epoch 74/80\n",
      "76/76 [==============================] - 1s 14ms/step - loss: 0.0015 - val_loss: 0.0011\n",
      "Epoch 75/80\n",
      "76/76 [==============================] - 1s 14ms/step - loss: 0.0010 - val_loss: 7.2763e-04\n",
      "Epoch 76/80\n",
      "76/76 [==============================] - 1s 14ms/step - loss: 0.0012 - val_loss: 0.0010\n",
      "Epoch 77/80\n",
      "76/76 [==============================] - 1s 14ms/step - loss: 0.0011 - val_loss: 6.4277e-04\n",
      "Epoch 78/80\n",
      "76/76 [==============================] - 1s 14ms/step - loss: 0.0012 - val_loss: 9.0303e-04\n",
      "Epoch 79/80\n",
      "76/76 [==============================] - 1s 14ms/step - loss: 0.0012 - val_loss: 7.0303e-04\n",
      "Epoch 80/80\n",
      "76/76 [==============================] - 1s 14ms/step - loss: 0.0012 - val_loss: 6.8029e-04\n",
      "Epoch 1/80\n",
      "76/76 [==============================] - 12s 58ms/step - loss: 6.2346 - val_loss: 3.6905\n",
      "Epoch 2/80\n",
      "76/76 [==============================] - 3s 38ms/step - loss: 3.5047 - val_loss: 3.0574\n",
      "Epoch 3/80\n",
      "76/76 [==============================] - 3s 37ms/step - loss: 2.9336 - val_loss: 2.5792\n",
      "Epoch 4/80\n",
      "76/76 [==============================] - 3s 37ms/step - loss: 2.4711 - val_loss: 2.1609\n",
      "Epoch 5/80\n",
      "76/76 [==============================] - 3s 37ms/step - loss: 2.0676 - val_loss: 1.7971\n",
      "Epoch 6/80\n",
      "76/76 [==============================] - 3s 38ms/step - loss: 1.7153 - val_loss: 1.4822\n",
      "Epoch 7/80\n",
      "76/76 [==============================] - 3s 38ms/step - loss: 1.4121 - val_loss: 1.2119\n",
      "Epoch 8/80\n",
      "76/76 [==============================] - 3s 38ms/step - loss: 1.1522 - val_loss: 0.9824\n",
      "Epoch 9/80\n",
      "76/76 [==============================] - 3s 38ms/step - loss: 0.9315 - val_loss: 0.7878\n",
      "Epoch 10/80\n",
      "76/76 [==============================] - 3s 38ms/step - loss: 0.7460 - val_loss: 0.6254\n",
      "Epoch 11/80\n",
      "76/76 [==============================] - 3s 38ms/step - loss: 0.5902 - val_loss: 0.4909\n",
      "Epoch 12/80\n",
      "76/76 [==============================] - 3s 38ms/step - loss: 0.4621 - val_loss: 0.3810\n",
      "Epoch 13/80\n",
      "76/76 [==============================] - 3s 37ms/step - loss: 0.3575 - val_loss: 0.2925\n",
      "Epoch 14/80\n",
      "76/76 [==============================] - 3s 37ms/step - loss: 0.2734 - val_loss: 0.2211\n",
      "Epoch 15/80\n",
      "76/76 [==============================] - 3s 38ms/step - loss: 0.2066 - val_loss: 0.1655\n",
      "Epoch 16/80\n",
      "76/76 [==============================] - 3s 38ms/step - loss: 0.1534 - val_loss: 0.1227\n",
      "Epoch 17/80\n",
      "76/76 [==============================] - 3s 37ms/step - loss: 0.1130 - val_loss: 0.0881\n",
      "Epoch 18/80\n",
      "76/76 [==============================] - 3s 37ms/step - loss: 0.0818 - val_loss: 0.0629\n",
      "Epoch 19/80\n",
      "76/76 [==============================] - 3s 37ms/step - loss: 0.0580 - val_loss: 0.0444\n",
      "Epoch 20/80\n",
      "76/76 [==============================] - 3s 38ms/step - loss: 0.0412 - val_loss: 0.0309\n",
      "Epoch 21/80\n",
      "76/76 [==============================] - 3s 37ms/step - loss: 0.0283 - val_loss: 0.0209\n",
      "Epoch 22/80\n",
      "76/76 [==============================] - 3s 38ms/step - loss: 0.0196 - val_loss: 0.0145\n",
      "Epoch 23/80\n",
      "76/76 [==============================] - 3s 38ms/step - loss: 0.0130 - val_loss: 0.0110\n",
      "Epoch 24/80\n",
      "76/76 [==============================] - 3s 37ms/step - loss: 0.0087 - val_loss: 0.0079\n",
      "Epoch 25/80\n",
      "76/76 [==============================] - 3s 37ms/step - loss: 0.0064 - val_loss: 0.0041\n",
      "Epoch 26/80\n",
      "76/76 [==============================] - 3s 38ms/step - loss: 0.0040 - val_loss: 0.0032\n",
      "Epoch 27/80\n",
      "76/76 [==============================] - 3s 38ms/step - loss: 0.0029 - val_loss: 0.0028\n",
      "Epoch 28/80\n",
      "76/76 [==============================] - 3s 38ms/step - loss: 0.0023 - val_loss: 0.0016\n",
      "Epoch 29/80\n",
      "76/76 [==============================] - 3s 37ms/step - loss: 0.0018 - val_loss: 0.0014\n",
      "Epoch 30/80\n",
      "76/76 [==============================] - 3s 38ms/step - loss: 0.0013 - val_loss: 0.0022\n",
      "Epoch 31/80\n",
      "76/76 [==============================] - 3s 38ms/step - loss: 0.0012 - val_loss: 0.0011\n",
      "Epoch 32/80\n",
      "76/76 [==============================] - 3s 37ms/step - loss: 0.0013 - val_loss: 9.7274e-04\n",
      "Epoch 33/80\n",
      "76/76 [==============================] - 3s 38ms/step - loss: 0.0010 - val_loss: 7.6178e-04\n",
      "Epoch 34/80\n",
      "76/76 [==============================] - 3s 37ms/step - loss: 9.3251e-04 - val_loss: 7.5965e-04\n",
      "Epoch 35/80\n",
      "76/76 [==============================] - 3s 38ms/step - loss: 0.0011 - val_loss: 6.2148e-04\n",
      "Epoch 36/80\n",
      "76/76 [==============================] - 3s 37ms/step - loss: 7.7254e-04 - val_loss: 7.7696e-04\n",
      "Epoch 37/80\n",
      "76/76 [==============================] - 3s 38ms/step - loss: 8.4339e-04 - val_loss: 0.0019\n",
      "Epoch 38/80\n",
      "76/76 [==============================] - 3s 37ms/step - loss: 0.0012 - val_loss: 6.1572e-04\n",
      "Epoch 39/80\n",
      "76/76 [==============================] - 3s 38ms/step - loss: 8.5167e-04 - val_loss: 6.6041e-04\n",
      "Epoch 40/80\n",
      "76/76 [==============================] - 3s 37ms/step - loss: 0.0015 - val_loss: 6.8109e-04\n",
      "Epoch 41/80\n",
      "76/76 [==============================] - 3s 38ms/step - loss: 7.8849e-04 - val_loss: 7.8233e-04\n",
      "Epoch 42/80\n",
      "76/76 [==============================] - 3s 37ms/step - loss: 0.0011 - val_loss: 7.5501e-04\n",
      "Epoch 43/80\n",
      "76/76 [==============================] - 3s 37ms/step - loss: 9.5890e-04 - val_loss: 8.5516e-04\n",
      "Epoch 44/80\n",
      "76/76 [==============================] - 3s 38ms/step - loss: 0.0011 - val_loss: 5.8948e-04\n",
      "Epoch 45/80\n",
      "76/76 [==============================] - 3s 38ms/step - loss: 0.0012 - val_loss: 7.0728e-04\n",
      "Epoch 46/80\n",
      "76/76 [==============================] - 3s 38ms/step - loss: 9.4888e-04 - val_loss: 8.2144e-04\n",
      "Epoch 47/80\n",
      "76/76 [==============================] - 3s 38ms/step - loss: 0.0011 - val_loss: 6.8971e-04\n",
      "Epoch 48/80\n",
      "76/76 [==============================] - 3s 37ms/step - loss: 8.9848e-04 - val_loss: 0.0012\n",
      "Epoch 49/80\n",
      "76/76 [==============================] - 3s 37ms/step - loss: 0.0011 - val_loss: 7.0434e-04\n",
      "Epoch 50/80\n",
      "76/76 [==============================] - 3s 38ms/step - loss: 7.0122e-04 - val_loss: 7.2260e-04\n",
      "Epoch 51/80\n",
      "76/76 [==============================] - 3s 37ms/step - loss: 0.0010 - val_loss: 6.3078e-04\n",
      "Epoch 52/80\n",
      "76/76 [==============================] - 3s 38ms/step - loss: 7.8717e-04 - val_loss: 7.3216e-04\n",
      "Epoch 53/80\n",
      "76/76 [==============================] - 3s 38ms/step - loss: 0.0010 - val_loss: 8.0097e-04\n",
      "Epoch 54/80\n",
      "76/76 [==============================] - 3s 38ms/step - loss: 9.8735e-04 - val_loss: 6.2884e-04\n",
      "Epoch 55/80\n",
      "76/76 [==============================] - 3s 37ms/step - loss: 7.2301e-04 - val_loss: 0.0024\n",
      "Epoch 56/80\n",
      "76/76 [==============================] - 3s 38ms/step - loss: 0.0014 - val_loss: 6.0519e-04\n",
      "Epoch 57/80\n",
      "76/76 [==============================] - 3s 37ms/step - loss: 8.6789e-04 - val_loss: 9.3412e-04\n",
      "Epoch 58/80\n",
      "76/76 [==============================] - 3s 38ms/step - loss: 7.4854e-04 - val_loss: 6.5739e-04\n",
      "Epoch 59/80\n",
      "76/76 [==============================] - 3s 38ms/step - loss: 6.6924e-04 - val_loss: 5.8280e-04\n",
      "Epoch 60/80\n",
      "76/76 [==============================] - 3s 38ms/step - loss: 7.7363e-04 - val_loss: 8.7629e-04\n",
      "Epoch 61/80\n",
      "76/76 [==============================] - 3s 38ms/step - loss: 9.6763e-04 - val_loss: 6.1944e-04\n",
      "Epoch 62/80\n",
      "76/76 [==============================] - 3s 37ms/step - loss: 9.9008e-04 - val_loss: 6.0650e-04\n",
      "Epoch 63/80\n",
      "76/76 [==============================] - 3s 38ms/step - loss: 7.8068e-04 - val_loss: 6.5079e-04\n",
      "Epoch 64/80\n",
      "76/76 [==============================] - 3s 38ms/step - loss: 0.0010 - val_loss: 6.9524e-04\n",
      "Epoch 65/80\n",
      "76/76 [==============================] - 3s 37ms/step - loss: 7.8437e-04 - val_loss: 7.2685e-04\n",
      "Epoch 66/80\n",
      "76/76 [==============================] - 3s 37ms/step - loss: 0.0011 - val_loss: 0.0015\n",
      "Epoch 67/80\n",
      "76/76 [==============================] - 3s 38ms/step - loss: 8.5912e-04 - val_loss: 6.2168e-04\n",
      "Epoch 68/80\n",
      "76/76 [==============================] - 3s 37ms/step - loss: 8.4027e-04 - val_loss: 0.0011\n",
      "Epoch 69/80\n",
      "76/76 [==============================] - 3s 37ms/step - loss: 8.1900e-04 - val_loss: 5.9915e-04\n",
      "Epoch 70/80\n",
      "76/76 [==============================] - 3s 37ms/step - loss: 9.2227e-04 - val_loss: 8.7563e-04\n",
      "Epoch 71/80\n",
      "76/76 [==============================] - 3s 38ms/step - loss: 8.1214e-04 - val_loss: 5.4648e-04\n",
      "Epoch 72/80\n",
      "76/76 [==============================] - 3s 38ms/step - loss: 8.3361e-04 - val_loss: 6.0341e-04\n",
      "Epoch 73/80\n",
      "76/76 [==============================] - 3s 37ms/step - loss: 6.2141e-04 - val_loss: 6.7109e-04\n",
      "Epoch 74/80\n",
      "76/76 [==============================] - 3s 38ms/step - loss: 8.9495e-04 - val_loss: 5.5934e-04\n",
      "Epoch 75/80\n",
      "76/76 [==============================] - 3s 38ms/step - loss: 8.8248e-04 - val_loss: 7.1970e-04\n",
      "Epoch 76/80\n",
      "76/76 [==============================] - 3s 38ms/step - loss: 7.5737e-04 - val_loss: 8.1252e-04\n",
      "Epoch 77/80\n",
      "76/76 [==============================] - 3s 38ms/step - loss: 0.0012 - val_loss: 6.1055e-04\n",
      "Epoch 78/80\n",
      "76/76 [==============================] - 3s 37ms/step - loss: 9.8354e-04 - val_loss: 8.6179e-04\n",
      "Epoch 79/80\n",
      "76/76 [==============================] - 3s 38ms/step - loss: 9.4133e-04 - val_loss: 6.8307e-04\n",
      "Epoch 80/80\n",
      "76/76 [==============================] - 3s 37ms/step - loss: 9.7647e-04 - val_loss: 6.0310e-04\n"
     ]
    }
   ],
   "source": [
    "history1 = LSTM1.fit(x_train, y_train, batch_size=32, epochs=80,validation_data=(x_test,y_test))\n",
    "history2 = LSTM2.fit(x_train, y_train, batch_size=32, epochs=80,validation_data=(x_test,y_test))\n",
    "history3 = GRU_model.fit(x_train, y_train, batch_size=32, epochs=80,validation_data=(x_test,y_test))\n",
    "history4 = biLSTM.fit(x_train, y_train, batch_size=32, epochs=80,validation_data=(x_test,y_test))"
   ]
  },
  {
   "cell_type": "code",
   "execution_count": null,
   "metadata": {
    "colab": {
     "base_uri": "https://localhost:8080/"
    },
    "id": "0izGWERtGIYA",
    "outputId": "26dea273-b05d-4f5b-d753-be88d56910b0"
   },
   "outputs": [
    {
     "name": "stdout",
     "output_type": "stream",
     "text": [
      "LSTM1\n",
      "RMSE: 2.704650147505318\n",
      "Accuracy: 0.47342995169082125 \n",
      "\n",
      "LSTM2\n",
      "RMSE: 1.553811163559252\n",
      "Accuracy: 0.4830917874396135 \n",
      "\n",
      "GRU\n",
      "RMSE: 1.2257305059679482\n",
      "Accuracy: 0.4830917874396135 \n",
      "\n",
      "BiLSTM\n",
      "RMSE: 2.378895096091137\n",
      "Accuracy: 0.48792270531400966 \n",
      "\n"
     ]
    }
   ],
   "source": [
    "scores = {}\n",
    "print('LSTM1')\n",
    "LSTM1_pred_val, rmse = pred_val(LSTM1,test_df,x_test)\n",
    "scores['LSTM1'] = rmse\n",
    "print('LSTM2')\n",
    "LSTM2_pred_val, rmse = pred_val(LSTM2,test_df,x_test)\n",
    "scores['LSTM2'] = rmse\n",
    "print('GRU')\n",
    "GRU_pred_val, rmse = pred_val(GRU_model,test_df,x_test)\n",
    "scores['GRU'] = rmse\n",
    "print('BiLSTM')\n",
    "bilstm_pred_val, rmse = pred_val(biLSTM,test_df,x_test)\n",
    "scores['BiLSTM'] = rmse"
   ]
  },
  {
   "cell_type": "code",
   "execution_count": null,
   "metadata": {
    "colab": {
     "base_uri": "https://localhost:8080/",
     "height": 414
    },
    "id": "fo3CsbhzGIYA",
    "outputId": "3f95d216-48a8-49b7-c8e9-09b593bd6c02"
   },
   "outputs": [
    {
     "data": {
      "image/png": "[encoded data removed]",
      "text/plain": [
       "<Figure size 576x432 with 1 Axes>"
      ]
     },
     "metadata": {
      "needs_background": "light",
      "tags": []
     },
     "output_type": "display_data"
    }
   ],
   "source": [
    "plt.figure(figsize=(8, 6))\n",
    "sns.barplot(y = pd.Series(scores).values, x = pd.Series(scores).index)\n",
    "plt.xticks(rotation=0)\n",
    "plt.title('Test RMSE Score', fontsize=16)\n",
    "plt.xticks(rotation = 45)\n",
    "plt.show()"
   ]
  },
  {
   "cell_type": "code",
   "execution_count": null,
   "metadata": {
    "colab": {
     "base_uri": "https://localhost:8080/",
     "height": 664
    },
    "id": "fL5DsGu0GIYA",
    "outputId": "108ae867-c5d4-4bd6-e18f-22c172372724",
    "scrolled": false
   },
   "outputs": [
    {
     "data": {
      "image/png": "[encoded data removed]",
      "text/plain": [
       "<Figure size 1152x720 with 4 Axes>"
      ]
     },
     "metadata": {
      "needs_background": "light",
      "tags": []
     },
     "output_type": "display_data"
    }
   ],
   "source": [
    "def plot_predictions(predictions,names):\n",
    "    rows = math.ceil(len(predictions)/2)\n",
    "    fig, axes = plt.subplots(rows,2, constrained_layout=False, figsize=(16,5*rows))\n",
    "    fig.suptitle(\"Testing data vs Prediction\\n\", fontsize=25)\n",
    "    # Draw nested boxplots\n",
    "    for prediction, name, ax in zip(predictions, names , axes.flatten()):\n",
    "        valid = test_df[['Close']][15:].copy()\n",
    "        valid['Predictions'] = prediction\n",
    "        ax.plot(valid[['Close', 'Predictions']])\n",
    "        ax.set_title(\"{} model\".format(name), fontsize=13)\n",
    "        ax.set_ylabel('Close Price')\n",
    "        ax.legend(['Actual', 'Predicted'], loc='lower right')\n",
    "    fig.subplots_adjust(hspace=0.3)\n",
    "    plt.show()\n",
    "\n",
    "\n",
    "predictions = [LSTM1_pred_val,LSTM2_pred_val,GRU_pred_val,bilstm_pred_val]\n",
    "names = ['LSTM1','LSTM2','GRU','BiLSTM']\n",
    "plot_predictions(predictions,names)"
   ]
  },
  {
   "cell_type": "code",
   "execution_count": null,
   "metadata": {},
   "outputs": [],
   "source": [
    "LINK_quote = web.DataReader('LTC-USD', data_source='yahoo', start='2021-03-01', end='2021-03-21')\n",
    "#create a new dataframe\n",
    "new_df = LINK_quote.drop(['Adj Close'],axis =1)\n",
    "scaler = MinMaxScaler().fit(df.drop('Marketcap',axis =1))\n",
    "new_df = pd.DataFrame(scaler.transform(new_df),columns=new_df.columns,index = new_df.index)\n",
    "#Get the last 60 day closing price\n",
    "X_test, y_test = generate_input(new_df,15,\"Close\")\n",
    "y_test = LINK_quote['Close'][-7:]"
   ]
  },
  {
   "cell_type": "markdown",
   "metadata": {},
   "source": [
    "# 1-day step prediction"
   ]
  },
  {
   "cell_type": "code",
   "execution_count": null,
   "metadata": {},
   "outputs": [],
   "source": [
    "pred_price1 = LSTM1.predict(X_test)\n",
    "pred_price2 = LSTM2.predict(X_test)\n",
    "pred_price3 = GRU_model.predict(X_test)\n",
    "pred_price4 = biLSTM.predict(X_test)\n",
    "#undo scaling\n",
    "target_scaler = MinMaxScaler()\n",
    "target_scaler.fit(df[['Close']])\n",
    "pred_price1 = target_scaler.inverse_transform(pred_price1).reshape(-1)\n",
    "pred_price2 = target_scaler.inverse_transform(pred_price2).reshape(-1)\n",
    "pred_price3 = target_scaler.inverse_transform(pred_price3).reshape(-1)\n",
    "pred_price4 = target_scaler.inverse_transform(pred_price4).reshape(-1)"
   ]
  },
  {
   "cell_type": "code",
   "execution_count": null,
   "metadata": {},
   "outputs": [],
   "source": [
    "valid1 = pd.DataFrame({'Close':y_test.values,'Predictions':pred_price1},index = new_df.iloc[-7:,:].index)\n",
    "valid2 = pd.DataFrame({'Close':y_test.values,'Predictions':pred_price2},index = new_df.iloc[-7:,:].index)\n",
    "valid3 = pd.DataFrame({'Close':y_test.values,'Predictions':pred_price3},index = new_df.iloc[-7:,:].index)\n",
    "valid4 = pd.DataFrame({'Close':y_test.values,'Predictions':pred_price4},index = new_df.iloc[-7:,:].index)"
   ]
  },
  {
   "cell_type": "code",
   "execution_count": null,
   "metadata": {},
   "outputs": [],
   "source": [
    "#visualize\n",
    "plt.figure(figsize=(16,8))\n",
    "plt.title('Model')\n",
    "plt.xlabel('Date')\n",
    "plt.ylabel('Close Price')\n",
    "plt.plot(valid1['Predictions'],label='Line 1')\n",
    "plt.plot(valid2['Predictions'])\n",
    "plt.plot(valid3['Predictions'])\n",
    "plt.plot(valid4[['Predictions', 'Close']])\n",
    "plt.plot(LINK_quote.iloc[:-6,:][\"Close\"],color = 'black')\n",
    "plt.legend(['LSTM1','LSTM2','GRU','BiLSTM','Actual','Training Data'], loc='upper left')\n",
    "plt.show()"
   ]
  },
  {
   "cell_type": "markdown",
   "metadata": {},
   "source": [
    "# 7-day steps prediction"
   ]
  },
  {
   "cell_type": "code",
   "execution_count": null,
   "metadata": {},
   "outputs": [],
   "source": [
    "# make a forecast\n",
    "def forecast(model, X_test, pred_len = 7):\n",
    "    # retrieve last observations for input data\n",
    "    input_x = X_test[0]\n",
    "    # reshape into [1, n_input, 1]\n",
    "    input_x = input_x.reshape((1, len(input_x), 1))\n",
    "    outputs = np.array([])\n",
    "    for i in range(pred_len):\n",
    "        # forecast the next week\n",
    "        yhat = model.predict(input_x, verbose=0)\n",
    "        outputs = np.append(outputs,target_scaler.inverse_transform(yhat))\n",
    "        # we only want the vector forecast\n",
    "        yhat = yhat[0]\n",
    "        input_x = np.append(input_x[0][1:],yhat)\n",
    "        input_x = input_x.reshape((1, len(input_x), 1))        \n",
    "    return outputs"
   ]
  },
  {
   "cell_type": "code",
   "execution_count": null,
   "metadata": {},
   "outputs": [],
   "source": [
    "valid1 = pd.DataFrame({'Close':y_test,'Predictions':forecast(LSTM1, X_test)},index = new_df.iloc[-7:,:].index)\n",
    "valid2 = pd.DataFrame({'Close':y_test,'Predictions':forecast(LSTM2, X_test)},index = new_df.iloc[-7:,:].index)\n",
    "valid3 = pd.DataFrame({'Close':y_test,'Predictions':forecast(GRU_model, X_test)},index = new_df.iloc[-7:,:].index)\n",
    "valid4 = pd.DataFrame({'Close':y_test,'Predictions':forecast(biLSTM, X_test)},index = new_df.iloc[-7:,:].index)"
   ]
  },
  {
   "cell_type": "code",
   "execution_count": null,
   "metadata": {},
   "outputs": [],
   "source": [
    "#visualize\n",
    "plt.figure(figsize=(16,8))\n",
    "plt.title('Model')\n",
    "plt.xlabel('Date')\n",
    "plt.ylabel('Close Price')\n",
    "plt.plot(valid1['Predictions'],label='Line 1')\n",
    "plt.plot(valid2['Predictions'])\n",
    "plt.plot(valid3['Predictions'])\n",
    "plt.plot(valid4[['Predictions', 'Close']])\n",
    "plt.plot(LINK_quote.iloc[:-6,:][\"Close\"],color = 'black')\n",
    "plt.legend(['LSTM1','LSTM2','GRU','BiLSTM','Actual','Training Data'], loc='upper left')\n",
    "plt.show()"
   ]
  }
 ],
 "metadata": {
  "accelerator": "GPU",
  "colab": {
   "collapsed_sections": [],
   "name": "Cópia de DL_Project_final.ipynb",
   "provenance": []
  },
  "kernelspec": {
   "display_name": "Python 3",
   "language": "python",
   "name": "python3"
  },
  "language_info": {
   "codemirror_mode": {
    "name": "ipython",
    "version": 3
   },
   "file_extension": ".py",
   "mimetype": "text/x-python",
   "name": "python",
   "nbconvert_exporter": "python",
   "pygments_lexer": "ipython3",
   "version": "3.8.5"
  },
  "metadata": {
   "interpreter": {
    "hash": "c20a6cc10b181467a9eba79145e80b289cbf6403380349d96b661c6de1c0092c"
   }
  }
 },
 "nbformat": 4,
 "nbformat_minor": 1
}
